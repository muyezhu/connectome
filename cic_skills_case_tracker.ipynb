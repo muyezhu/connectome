{
  "nbformat": 4,
  "nbformat_minor": 0,
  "metadata": {
    "colab": {
      "name": "cic_skills_case_tracker.ipynb",
      "provenance": [],
      "collapsed_sections": [],
      "include_colab_link": true
    },
    "kernelspec": {
      "display_name": "Python 3",
      "language": "python",
      "name": "python3"
    },
    "language_info": {
      "codemirror_mode": {
        "name": "ipython",
        "version": 3
      },
      "file_extension": ".py",
      "mimetype": "text/x-python",
      "name": "python",
      "nbconvert_exporter": "python",
      "pygments_lexer": "ipython3",
      "version": "3.7.4"
    }
  },
  "cells": [
    {
      "cell_type": "markdown",
      "metadata": {
        "id": "view-in-github",
        "colab_type": "text"
      },
      "source": [
        "<a href=\"https://colab.research.google.com/github/muyezhu/connectome/blob/master/cic_skills_case_tracker.ipynb\" target=\"_parent\"><img src=\"https://colab.research.google.com/assets/colab-badge.svg\" alt=\"Open In Colab\"/></a>"
      ]
    },
    {
      "cell_type": "code",
      "metadata": {
        "colab_type": "code",
        "id": "dbObwIAAYP3R",
        "colab": {},
        "cellView": "form"
      },
      "source": [
        "#@title\n",
        "import pandas as pd"
      ],
      "execution_count": 0,
      "outputs": []
    },
    {
      "cell_type": "code",
      "metadata": {
        "id": "hs2txoRpInLa",
        "colab_type": "code",
        "colab": {},
        "cellView": "form"
      },
      "source": [
        "#@title\n",
        "# review: pandas uses DataFrame to represent tabular data\n",
        "# each row in a DataFrame is an observation/unit/entity, each column in a DataFrame is a feature associated with observations\n",
        "# each row and column has a label within the DataFrame. The row labels are known as an \"Index\"\n",
        "# example: grocery store sales of egg and milk on Monday through Friday\n",
        "# what are the rows and columns?"
      ],
      "execution_count": 0,
      "outputs": []
    },
    {
      "cell_type": "code",
      "metadata": {
        "id": "LxfWGHkZInLd",
        "colab_type": "code",
        "colab": {},
        "cellView": "form"
      },
      "source": [
        "#@title\n",
        "# possibility 1\n",
        "#          egg     milk\n",
        "# Mon       1        1\n",
        "# Tue       3        2\n",
        "# Wed       0        8\n",
        "# Thurs     9        2\n",
        "# Friday    8        8\n",
        "# what is the index? what are the column names?"
      ],
      "execution_count": 0,
      "outputs": []
    },
    {
      "cell_type": "code",
      "metadata": {
        "id": "2dL7NPwCInLf",
        "colab_type": "code",
        "colab": {},
        "cellView": "form"
      },
      "source": [
        "#@title\n",
        "# review: each column in a DataFrame is a \"Series\". the name of the Series is identical to the column name\n",
        "# Series have index too. aka the rows in Series also have labels. all Series in the same DataFrame share identical index\n",
        "# to create a DataFrame, we provide each Series as 'series_name/column_name': series_data\n",
        "sales1 = {\n",
        "    'egg': [1, 3, 0, 9, 8],\n",
        "    'milk': [1, 2, 8, 2, 8]\n",
        "}\n",
        "df_sales1 = pd.DataFrame(data=sales1)\n",
        "df_sales1"
      ],
      "execution_count": 0,
      "outputs": []
    },
    {
      "cell_type": "code",
      "metadata": {
        "id": "Qw4N7nFsInLj",
        "colab_type": "code",
        "colab": {},
        "cellView": "form"
      },
      "source": [
        "#@title\n",
        "# good. but something's missing. notice the index of the DataFrame: it's now 0, 1, 2, 3, 4. this is the default index (known as RangeIndex)\n",
        "# pandas assigns for a DataFrame if user didn't specify the index. but we want the index to be the week days instead\n",
        "weekdays = ['Mon', 'Tue', 'Wed', 'Thurs', 'Fri']\n",
        "sales1 = {\n",
        "    'egg': [1, 3, 0, 9, 8],\n",
        "    'milk': [1, 2, 8, 2, 8]\n",
        "}\n",
        "df_sales1 = pd.DataFrame(data=sales1, index=weekdays)\n",
        "df_sales1"
      ],
      "execution_count": 0,
      "outputs": []
    },
    {
      "cell_type": "code",
      "metadata": {
        "id": "lt8rnxvAInLm",
        "colab_type": "code",
        "colab": {},
        "cellView": "form"
      },
      "source": [
        "#@title\n",
        "# notice: the index, if given, must have the same number of entries as the data columns.\n",
        "# try in this cell what happens if we remove one entry from weekdays\n"
      ],
      "execution_count": 0,
      "outputs": []
    },
    {
      "cell_type": "code",
      "metadata": {
        "id": "8npIY4tzInLp",
        "colab_type": "code",
        "colab": {},
        "cellView": "form"
      },
      "source": [
        "#@title\n",
        "# possibility 2: how should we fill this following table which has egg and milk as the rows now?\n",
        "#        Mon     Tue     Wed     Thur    Fri\n",
        "# egg\n",
        "# milk"
      ],
      "execution_count": 0,
      "outputs": []
    },
    {
      "cell_type": "code",
      "metadata": {
        "id": "4MYpG2GxInLs",
        "colab_type": "code",
        "colab": {},
        "cellView": "form"
      },
      "source": [
        "#@title\n",
        "#        Mon     Tue     Wed     Thur    Fri\n",
        "# egg     1       3       0        9      8\n",
        "# milk    1       2       8        2      8"
      ],
      "execution_count": 0,
      "outputs": []
    },
    {
      "cell_type": "code",
      "metadata": {
        "id": "PPzrlJnEInLu",
        "colab_type": "code",
        "colab": {},
        "cellView": "form"
      },
      "source": [
        "#@title\n",
        "# now make a DataFrame for this table\n",
        "# here's some hints\n",
        "items = ['egg', 'milk']\n",
        "sales2 = {\n",
        "    'Mon': [1, 1],\n",
        "}"
      ],
      "execution_count": 0,
      "outputs": []
    },
    {
      "cell_type": "code",
      "metadata": {
        "id": "geiI6TuOInLy",
        "colab_type": "code",
        "colab": {},
        "cellView": "form"
      },
      "source": [
        "#@title\n",
        "items = ['egg', 'milk']\n",
        "sales2 = {\n",
        "    'Mon': [1, 1],\n",
        "    'Tue': [3, 2],\n",
        "    'Wed': [0, 8],\n",
        "    'Thur': [9, 2], \n",
        "    'Fri': [8, 8]\n",
        "}\n",
        "df_sales2 = pd.DataFrame(data=sales2, index=items)\n",
        "df_sales2"
      ],
      "execution_count": 0,
      "outputs": []
    },
    {
      "cell_type": "code",
      "metadata": {
        "id": "1mSi8fbZInL2",
        "colab_type": "code",
        "colab": {},
        "cellView": "form"
      },
      "source": [
        "#@title\n",
        "# to access individual Series in the DataFrame, for example the 'Mon' Series in df_sales2\n",
        "df_sales2['Mon']"
      ],
      "execution_count": 0,
      "outputs": []
    },
    {
      "cell_type": "code",
      "metadata": {
        "id": "64Xh9h1rInL5",
        "colab_type": "code",
        "colab": {},
        "cellView": "form"
      },
      "source": [
        "#@title\n",
        "# now try access the 'milk' Series from df_sales1 here\n"
      ],
      "execution_count": 0,
      "outputs": []
    },
    {
      "cell_type": "code",
      "metadata": {
        "id": "WtGjucXMInL7",
        "colab_type": "code",
        "colab": {},
        "cellView": "form"
      },
      "source": [
        "#@title\n",
        "df_sales1['milk']"
      ],
      "execution_count": 0,
      "outputs": []
    },
    {
      "cell_type": "code",
      "metadata": {
        "id": "yM0yuoCkInL9",
        "colab_type": "code",
        "colab": {},
        "cellView": "form"
      },
      "source": [
        "#@title\n",
        "# .loc accessor: allows accessing elements in the DataFrame with row and column labels\n",
        "# using df_sales2, to retrieve egg sales on Wednesday\n",
        "df_sales2.loc['egg', 'Wed']"
      ],
      "execution_count": 0,
      "outputs": []
    },
    {
      "cell_type": "code",
      "metadata": {
        "id": "goUq9Y46InL_",
        "colab_type": "code",
        "colab": {},
        "cellView": "form"
      },
      "source": [
        "#@title\n",
        "# .loc accessor: if only row label is given, all columns in the row are returned\n",
        "df_sales2.loc['egg']"
      ],
      "execution_count": 0,
      "outputs": []
    },
    {
      "cell_type": "code",
      "metadata": {
        "id": "IdWAjNP9InMC",
        "colab_type": "code",
        "colab": {},
        "cellView": "form"
      },
      "source": [
        "#@title\n",
        "# .loc also accept list of row and column labels\n",
        "df_sales2.loc[['egg', 'milk'], ['Tue', 'Wed', 'Thur']]"
      ],
      "execution_count": 0,
      "outputs": []
    },
    {
      "cell_type": "code",
      "metadata": {
        "id": "mSb5Pa-SInME",
        "colab_type": "code",
        "colab": {},
        "cellView": "form"
      },
      "source": [
        "#@title\n",
        "# .loc accessor also understands a range of labels\n",
        "# using df_sales2 to retrieve egg and milk sales from Tuesday to Thursday\n",
        "df_sales2.loc['egg': 'milk', 'Tue': 'Thur']"
      ],
      "execution_count": 0,
      "outputs": []
    },
    {
      "cell_type": "code",
      "metadata": {
        "id": "co-mEkNzInMG",
        "colab_type": "code",
        "colab": {},
        "cellView": "form"
      },
      "source": [
        "#@title\n",
        "# now try retrieve milk sales from Wed to Friday from df_sales1\n"
      ],
      "execution_count": 0,
      "outputs": []
    },
    {
      "cell_type": "code",
      "metadata": {
        "id": "omW_2GKxInMI",
        "colab_type": "code",
        "colab": {},
        "cellView": "form"
      },
      "source": [
        "#@title\n",
        "df_sales1.loc['Wed':'Fri', 'milk']"
      ],
      "execution_count": 0,
      "outputs": []
    },
    {
      "cell_type": "code",
      "metadata": {
        "id": "B84wO6I_InML",
        "colab_type": "code",
        "colab": {},
        "cellView": "form"
      },
      "source": [
        "#@title\n",
        "# .loc can also be used to select an entire series/column in a dataframe. think about how\n",
        "# try access the 'milk' Series from df_sales1 again, this time with .loc"
      ],
      "execution_count": 0,
      "outputs": []
    },
    {
      "cell_type": "code",
      "metadata": {
        "id": "wI3rNkPrInMM",
        "colab_type": "code",
        "colab": {},
        "cellView": "form"
      },
      "source": [
        "#@title\n",
        "df_sales1.loc[:, 'milk']"
      ],
      "execution_count": 0,
      "outputs": []
    },
    {
      "cell_type": "code",
      "metadata": {
        "id": "uw59FxExInMP",
        "colab_type": "code",
        "colab": {},
        "cellView": "form"
      },
      "source": [
        "#@title\n",
        "# finally, .loc understands list of boolean values\n",
        "# when a True value is encountered, the corresponding row/column is slected. \n",
        "# with pick_days, we select only Monday and Thursday\n",
        "pick_days = [True, False, False, True, False]\n",
        "df_sales2.loc[:, pick_days]"
      ],
      "execution_count": 0,
      "outputs": []
    },
    {
      "cell_type": "code",
      "metadata": {
        "id": "IuHFF67EInMT",
        "colab_type": "code",
        "colab": {},
        "cellView": "form"
      },
      "source": [
        "#@title\n",
        "# now try select from df_sales1 the Tuesday and Friday rows\n"
      ],
      "execution_count": 0,
      "outputs": []
    },
    {
      "cell_type": "code",
      "metadata": {
        "id": "810HmW3GInMV",
        "colab_type": "code",
        "colab": {},
        "cellView": "form"
      },
      "source": [
        "#@title\n",
        "df_sales1.loc[[False, True, False, False, True], :]"
      ],
      "execution_count": 0,
      "outputs": []
    },
    {
      "cell_type": "code",
      "metadata": {
        "id": "WCJSU8f_InMX",
        "colab_type": "code",
        "colab": {},
        "cellView": "form"
      },
      "source": [
        "#@title\n",
        "# we can also use .loc to add new rows. note the index of the new row needs to be one that doesn't exist in the current dataframe\n",
        "# otherwise an old row will be overwritten with new data\n",
        "df_sales2.loc['ham'] = [7, 6, 2, 2, 5]\n",
        "df_sales2"
      ],
      "execution_count": 0,
      "outputs": []
    },
    {
      "cell_type": "code",
      "metadata": {
        "id": "lDsq0rIkInMZ",
        "colab_type": "code",
        "colab": {},
        "cellView": "form"
      },
      "source": [
        "#@title\n",
        "# how about adding new column? recall how to access a column: df_sales2['Mon'], without .loc\n",
        "# if we use the same syntax with a column label that doesn't exist in the dataframe, we can create a new column\n",
        "df_sales2['Sat'] = [20, 30, 19]\n",
        "df_sales2"
      ],
      "execution_count": 0,
      "outputs": []
    },
    {
      "cell_type": "code",
      "metadata": {
        "id": "dbMEoRVtInMc",
        "colab_type": "code",
        "colab": {},
        "cellView": "form"
      },
      "source": [
        "#@title\n",
        "# now try to work adding row and column to df_sales1, such that df_sales1 will have sales data for egg, milk, ham from Mon to Sat\n",
        "# sales data should match between df_sales2 and df_sales1\n"
      ],
      "execution_count": 0,
      "outputs": []
    },
    {
      "cell_type": "code",
      "metadata": {
        "id": "02Dz_qtVInMe",
        "colab_type": "code",
        "colab": {},
        "cellView": "form"
      },
      "source": [
        "#@title\n",
        "df_sales1['ham'] = [7, 6, 2, 2, 5]\n",
        "df_sales1.loc['Sat'] = [20, 30, 19]\n",
        "df_sales1"
      ],
      "execution_count": 0,
      "outputs": []
    },
    {
      "cell_type": "markdown",
      "metadata": {
        "colab_type": "text",
        "id": "uo-QvnvgYTiB"
      },
      "source": [
        "case tracker over view:\n",
        "\n",
        "For each brain, which is assigned a case ID\n",
        "\n",
        "* Tissue processing stages\n",
        "    1. Surgery: surgery date, planned injection location, survived surgery, perfusion date, surgeon (injection strategy, etc)\n",
        "    2. Sectioning: section date, plane, thickness, tech\n",
        "    3. Staining: staining date, staining target, tech\n",
        "    4. Mounting: mounting date, tech\n",
        "    5. Scanning: scanning date, vsi path, actual injection location, quality, tech\n",
        "\n",
        "* Image processing stages\n",
        "    1. Import: osp path, tech\n",
        "    2. Registration\n",
        "    3. Threshold\n",
        "    4. Overlap\n",
        "\n",
        "* Big picture stuff\n",
        "    1. Scientific project\n",
        "    2. Quarterly report"
      ]
    },
    {
      "cell_type": "code",
      "metadata": {
        "id": "dwACtN3qInMg",
        "colab_type": "code",
        "colab": {},
        "cellView": "form"
      },
      "source": [
        "#@title\n",
        "# say we want to create a DataFrame of case trackers. what do you think the DataFrame should looke like?\n",
        "# whats the row index? what are the columns?"
      ],
      "execution_count": 0,
      "outputs": []
    },
    {
      "cell_type": "code",
      "metadata": {
        "id": "6gAzMaqHInMi",
        "colab_type": "code",
        "colab": {},
        "cellView": "form"
      },
      "source": [
        "#@title\n",
        "ids = ['SW190319-01', 'SW190320-01']\n",
        "simple_tracker = {\n",
        "    'surgeon': ['A', 'B'],\n",
        "    'survived_surgery': [True, False]\n",
        "}\n",
        "df_simple_tracker = pd.DataFrame(data=simple_tracker, index=ids)\n",
        "df_simple_tracker"
      ],
      "execution_count": 0,
      "outputs": []
    },
    {
      "cell_type": "code",
      "metadata": {
        "colab_type": "code",
        "id": "lg8ONj6yffKX",
        "colab": {},
        "cellView": "form"
      },
      "source": [
        "#@title\n",
        "from pandas.tseries.holiday import USFederalHolidayCalendar\n",
        "from pandas.tseries.offsets import CustomBusinessDay\n",
        "import numpy as np\n",
        "from numpy.random import choice, uniform\n",
        "import matplotlib.pyplot as plt\n",
        "\n",
        "\n",
        "def workdays_2020():\n",
        "      # don't come to work on weekends / holidays!\n",
        "      bday_offset = CustomBusinessDay(calendar=USFederalHolidayCalendar())\n",
        "      # a list of working days\n",
        "      work_days = pd.bdate_range(start='2020-01-01', end='2020-12-31', freq=bday_offset)\n",
        "      return work_days\n",
        "\n",
        "def generate_case_ids():\n",
        "      # gather all work days in 2020 (exclude weekends, holidays)\n",
        "      work_days = workdays_2020()\n",
        "      # on each work day, between [0, 10] surgeries are done, with 4 surgeries being the most common occurrence\n",
        "      # surgery numbers   0  1  2  3  4  5  6  7  8  9  10 \n",
        "      chances = np.array([2, 2, 3, 3, 4, 3, 3, 2, 2, 1, 1])\n",
        "      case_ids = []\n",
        "      ns = []\n",
        "      for work_day in work_days:\n",
        "          n = choice([0, 1, 2, 3, 4, 5, 6, 7, 8, 9, 10], p=chances / np.sum(chances))\n",
        "          ns.append(n)\n",
        "          if n > 0:\n",
        "              case_ids.extend(['SW{}-{}'.format(work_day.strftime('%Y%m%d'), str(i).zfill(2)) for i in range(1, n + 1)])\n",
        "      plt.hist(ns)    \n",
        "      plt.xlabel('number of surgeries in a day')\n",
        "      return case_ids   \n",
        "\n",
        "\n",
        "def generate_techs(n):\n",
        "    all_techs = ['Amy', 'Andrew', 'Emma', 'Mathew', 'Lucy', 'Edward', 'Danice', 'Zack', 'Betty', 'Rob']\n",
        "    return choice(all_techs, size=(n,), replace=True)"
      ],
      "execution_count": 0,
      "outputs": []
    },
    {
      "cell_type": "code",
      "metadata": {
        "colab_type": "code",
        "id": "gny3SjzcPy52",
        "colab": {},
        "cellView": "form"
      },
      "source": [
        "#@title\n",
        "# let's simulate the bare minimum components for a dataframe of case trackers in 2020\n",
        "def generate_case_trackers():\n",
        "    # assuming surgeons work on non holiday weekdays, and between [0, 10] cases of surgeries\n",
        "    # are conducted on such days, lets generate case_ids, which is also the index of our dataframe\n",
        "    case_ids = generate_case_ids()\n",
        "    n_cases = len(case_ids)\n",
        "    # now we add some columns\n",
        "    case_tracker = {\n",
        "        # date of surgery: from case id. this series is of \"datetime\" type. more on this later \n",
        "        'surgery_date': pd.to_datetime(case_ids, format='%Y%m%d', exact=False),\n",
        "        # planned coordinates (x, y, z)\n",
        "        'planned_x': uniform(low=0, high=3, size=(n_cases,)),\n",
        "        'planned_y': uniform(low=-7, high=4, size=(n_cases,)),\n",
        "        'planned_z': uniform(low=-5, high=0, size=(n_cases,)),\n",
        "        # the surgeon for each case\n",
        "        'surgeon': generate_techs(n_cases),\n",
        "        # whether animal survived the surgery\n",
        "        'survived_surgery': choice([True, False], size=(n_cases,), p=[0.9, 0.1])\n",
        "    }\n",
        "    df_tracker = pd.DataFrame(data=case_tracker, index=case_ids)\n",
        "    return df_tracker"
      ],
      "execution_count": 0,
      "outputs": []
    },
    {
      "cell_type": "code",
      "metadata": {
        "id": "QkSjvotjInMr",
        "colab_type": "code",
        "colab": {}
      },
      "source": [
        "df_case_tracker = generate_case_trackers()  \n",
        "df_case_tracker.head(n=5)"
      ],
      "execution_count": 0,
      "outputs": []
    },
    {
      "cell_type": "code",
      "metadata": {
        "id": "rGg6C402InMu",
        "colab_type": "code",
        "colab": {}
      },
      "source": [
        "df_case_tracker.info()"
      ],
      "execution_count": 0,
      "outputs": []
    },
    {
      "cell_type": "markdown",
      "metadata": {
        "id": "eEVboZTpInMw",
        "colab_type": "text"
      },
      "source": [
        "variable types in statistical analyses\n",
        "* nominal (categorical): unordered categorical variables, where a categorical variable is a variable that can take on one of a limited, and usually fixed, number of possible values. for nominal variables, the categories have no logical orderings. e.g. blood type, race, gender, zip code\n",
        "* ordinal (categorical): ordered categorical variables. e.g. movie ratings (\"great\", \"good\", \"meh\", \"sucks!\"), income levels (\"high income\", \"median income\", \"low income\"), military rank\n",
        "* interval (numerical): ordered. additionally, difference between two values are meaningful.  e.g. temperature, credit score\n",
        "* ratio (numerical): has all the properties of an interval variable, and also has a clear definition of zero. When the variable equals 0.0, there is none of that variable. e.g. heart rate, enzyme activity, weight"
      ]
    },
    {
      "cell_type": "code",
      "metadata": {
        "id": "qkpE5jIYInMw",
        "colab_type": "code",
        "colab": {},
        "cellView": "form"
      },
      "source": [
        "#@title\n",
        "# what type of variable is \"planned_x\"?"
      ],
      "execution_count": 0,
      "outputs": []
    },
    {
      "cell_type": "code",
      "metadata": {
        "id": "t_VTB9C0InMy",
        "colab_type": "code",
        "colab": {},
        "cellView": "form"
      },
      "source": [
        "#@title\n",
        "# what type of variable is \"surgeon\"? what about \"survived_surgery\"?"
      ],
      "execution_count": 0,
      "outputs": []
    },
    {
      "cell_type": "code",
      "metadata": {
        "id": "xMD5IFIJInM1",
        "colab_type": "code",
        "colab": {},
        "cellView": "form"
      },
      "source": [
        "#@title\n",
        "# lets change the surgeon column to unordered categorical variable\n",
        "df_case_tracker['surgeon'] = df_case_tracker['surgeon'].astype('category')\n",
        "df_case_tracker['surgeon'].dtype"
      ],
      "execution_count": 0,
      "outputs": []
    },
    {
      "cell_type": "code",
      "metadata": {
        "id": "af8v3ApMInM4",
        "colab_type": "code",
        "colab": {},
        "cellView": "form"
      },
      "source": [
        "#@title\n",
        "df_case_tracker['surgeon'].value_counts(sort=False)"
      ],
      "execution_count": 0,
      "outputs": []
    },
    {
      "cell_type": "code",
      "metadata": {
        "id": "j3wDllEmInM6",
        "colab_type": "code",
        "colab": {},
        "cellView": "form"
      },
      "source": [
        "#@title\n",
        "_ = df_case_tracker['surgeon'].value_counts(sort=False).plot(kind='bar')"
      ],
      "execution_count": 0,
      "outputs": []
    },
    {
      "cell_type": "code",
      "metadata": {
        "id": "NMG_4FrgInM8",
        "colab_type": "code",
        "colab": {},
        "cellView": "form"
      },
      "source": [
        "#@title\n",
        "# is \"surgery_date\" nominal, ordinal, interval or ratio?"
      ],
      "execution_count": 0,
      "outputs": []
    },
    {
      "cell_type": "code",
      "metadata": {
        "id": "a5Miogg1InM-",
        "colab_type": "code",
        "colab": {},
        "cellView": "form"
      },
      "source": [
        "#@title\n",
        "# series or index with datetime dtype supports many powerful pandas time series functionalities\n",
        "# for example, we can easily compare the datetime entries to a certain time of interest\n",
        "# are the surgery dates later than 2020 jan 1st?\n",
        "later_than_jan_1st = df_case_tracker['surgery_date'] > '2020-Jan-1'\n",
        "later_than_jan_1st.head()"
      ],
      "execution_count": 0,
      "outputs": []
    },
    {
      "cell_type": "code",
      "metadata": {
        "id": "M0ZBhfSmInNB",
        "colab_type": "code",
        "colab": {},
        "cellView": "form"
      },
      "source": [
        "#@title\n",
        "# are the surgery dates earlier than 2019 dec 31 st?\n",
        "# note than various format of specifying dates are recognized\n",
        "earlier_than_2020 = df_case_tracker['surgery_date'] < '2019-12-23'\n",
        "earlier_than_2020.head()"
      ],
      "execution_count": 0,
      "outputs": []
    },
    {
      "cell_type": "code",
      "metadata": {
        "id": "xVFGiMjEInND",
        "colab_type": "code",
        "colab": {},
        "cellView": "form"
      },
      "source": [
        "#@title\n",
        "# are the surgery dates later than 2020 jan 1st but earlier than 2020 jan 6th?\n",
        "between_jan_1st_and_6th = (df_case_tracker['surgery_date'] > '2020-Jan-1') & (df_case_tracker['surgery_date'] < '2020-1-6')\n",
        "between_jan_1st_and_6th.head(n=10)"
      ],
      "execution_count": 0,
      "outputs": []
    },
    {
      "cell_type": "code",
      "metadata": {
        "id": "oeRH5fcdInNH",
        "colab_type": "code",
        "colab": {},
        "cellView": "form"
      },
      "source": [
        "#@title\n",
        "# this allows us to filter for surgeries performed during certain time periods\n",
        "# for example, let's select all cases for which surgeries were done between Feb 3rd and Feb 6th\n",
        "# we will again use the .loc accessor\n",
        "dates_wanted = (df_case_tracker['surgery_date'] >= '2020-Feb-3') & (df_case_tracker['surgery_date'] <= '2020-Feb-6')\n",
        "df_feb36 = df_case_tracker.loc[dates_wanted]\n",
        "df_feb36"
      ],
      "execution_count": 0,
      "outputs": []
    },
    {
      "cell_type": "code",
      "metadata": {
        "id": "ng5HfihVInNK",
        "colab_type": "code",
        "colab": {},
        "cellView": "form"
      },
      "source": [
        "#@title\n",
        "# this is a lot more advanced, as a show case of how we may potentially identify period of time where technical failures seem to occur more frequently than usual\n",
        "# if we also have records of equipment, reagent information for some time periods, it's possible to systemically find conditions detrimental for experiments\n",
        "# resample: divides data into specified time intervals, here each interval is a week, with each week starting on monday\n",
        "# the mean surgery survival is calculated for each week, based on the weekly intervals\n",
        "# the survival percent is then sorted, and 5 weeks with lowest surgery survival rate through 2020 is shown\n",
        "df_case_tracker.resample('W-Mon', on='surgery_date', label='right')['survived_surgery'].mean().sort_values().head(n=5)"
      ],
      "execution_count": 0,
      "outputs": []
    },
    {
      "cell_type": "code",
      "metadata": {
        "id": "OJghTmD8InNM",
        "colab_type": "code",
        "colab": {},
        "cellView": "form"
      },
      "source": [
        "#@title\n",
        "# annual surgery survival rate (it's quite close to the value we used to simulate the case tracker data)\n",
        "df_case_tracker['survived_surgery'].mean()"
      ],
      "execution_count": 0,
      "outputs": []
    },
    {
      "cell_type": "code",
      "metadata": {
        "id": "v7NibEJRInNP",
        "colab_type": "code",
        "colab": {},
        "cellView": "form"
      },
      "source": [
        "#@title\n",
        "# what is a normal range of survival rate for a given week? because we have assigned a known individual survival rate here, \n",
        "# we can actually compute 95% confidence interval of weekly survival rates. but this is beyond the scope for now."
      ],
      "execution_count": 0,
      "outputs": []
    },
    {
      "cell_type": "code",
      "metadata": {
        "id": "zoHYm-MRInNR",
        "colab_type": "code",
        "colab": {},
        "cellView": "form"
      },
      "source": [
        "#@title\n",
        "# now lets move on to add perfusion dates\n",
        "# lets say on average, perfusion happens 2 days after surgery\n",
        "from numpy.random import exponential\n",
        "days_till_perfuse = exponential(scale=2, size=(df_case_tracker.shape[0],))\n",
        "print('average days till perfusion =', np.mean(days_till_perfuse))\n",
        "days_till_perfuse = pd.to_timedelta(days_till_perfuse, unit='days')\n",
        "# add new column \"perfusion_date\", where perfusion_date = surgery_date + days_till_perfuse\n",
        "df_case_tracker['perfusion_date'] = df_case_tracker['surgery_date'] + days_till_perfuse\n",
        "df_case_tracker['perfusion_date'] = df_case_tracker['perfusion_date'].dt.round('D')\n",
        "df_case_tracker.head()"
      ],
      "execution_count": 0,
      "outputs": []
    },
    {
      "cell_type": "code",
      "metadata": {
        "id": "wyT1_1QZInNS",
        "colab_type": "code",
        "colab": {},
        "cellView": "form"
      },
      "source": [
        "#@title\n",
        "# now section, stain, mount and scanning dates will be added similarly\n",
        "# it's assumed that sectioning happens on average 2 days after perfusion, staining 2 days after sectioning, \n",
        "# mounting 5 days after staining, scanning 4 days after mounting\n",
        "days_till_step = pd.Series([2, 2, 5, 4], index=['sectioning', 'staining', 'mounting', 'scanning'])\n",
        "for i in range(len(days_till_step)):\n",
        "    days = exponential(scale=days_till_step[i], size=(df_case_tracker.shape[0],))\n",
        "    days = pd.to_timedelta(days, unit='days')\n",
        "    new_column_name = '{}_date'.format(days_till_step.index[i])\n",
        "    old_column_name = 'perfusion_date' if i == 0 else '{}_date'.format(days_till_step.index[i - 1])\n",
        "    df_case_tracker[new_column_name] = df_case_tracker[old_column_name] + days\n",
        "    df_case_tracker[new_column_name] = df_case_tracker[new_column_name].dt.round('D')\n",
        "df_case_tracker.head()"
      ],
      "execution_count": 0,
      "outputs": []
    },
    {
      "cell_type": "code",
      "metadata": {
        "id": "R3kDU72gInNU",
        "colab_type": "code",
        "colab": {},
        "cellView": "form"
      },
      "source": [
        "#@title\n",
        "# how can you find out if there are any cases that haven't finished scanning by end of year?\n",
        "# select these cases if they exist\n",
        "# hint1: compare scanning_date to 2021-Jan-1st\n",
        "# hint2: use .loc accessor\n",
        "# hint3: take a look at the last rows and their scanning dates. do you know if there are any cases that haven't finished scanning by end of year now?\n",
        "df_case_tracker.tail()"
      ],
      "execution_count": 0,
      "outputs": []
    },
    {
      "cell_type": "code",
      "metadata": {
        "id": "44rUNJjYInNW",
        "colab_type": "code",
        "colab": {},
        "cellView": "form"
      },
      "source": [
        "#@title\n",
        "df_case_tracker.loc[df_case_tracker['scanning_date'] >= '2021-01-01'].head()"
      ],
      "execution_count": 0,
      "outputs": []
    },
    {
      "cell_type": "code",
      "metadata": {
        "id": "mbckvFUfInNX",
        "colab_type": "code",
        "colab": {},
        "cellView": "form"
      },
      "source": [
        "#@title\n",
        "# because we are only collecting data within year 2020, we are going to consider dates occuring in 2021 as invalid\n",
        "# to reflect this in the dataframe, we replace dates in 2021 with pd.NaT (Not a Time)\n",
        "# we need to use .loc to select all these date columns: perfusion, section, stain, mount, scan\n",
        "# how?"
      ],
      "execution_count": 0,
      "outputs": []
    },
    {
      "cell_type": "code",
      "metadata": {
        "id": "ENA-5bNwInNZ",
        "colab_type": "code",
        "colab": {},
        "cellView": "form"
      },
      "source": [
        "#@title\n",
        "df_case_tracker.loc[:, 'perfusion_date': 'scanning_date'].head()"
      ],
      "execution_count": 0,
      "outputs": []
    },
    {
      "cell_type": "code",
      "metadata": {
        "id": "90O7q3cnInNb",
        "colab_type": "code",
        "colab": {},
        "cellView": "form"
      },
      "source": [
        "#@title\n",
        "# if these dates falls in 2021, replace with NaT\n",
        "df_case_tracker.loc[:, 'perfusion_date': 'scanning_date'] = df_case_tracker.loc[:, 'perfusion_date': 'scanning_date'].where(df_case_tracker.loc[:, 'perfusion_date': 'scanning_date'] < '2021-01-01', pd.NaT)"
      ],
      "execution_count": 0,
      "outputs": []
    },
    {
      "cell_type": "code",
      "metadata": {
        "id": "kiQh15lJInNc",
        "colab_type": "code",
        "colab": {},
        "cellView": "form"
      },
      "source": [
        "#@title\n",
        "df_case_tracker.tail()"
      ],
      "execution_count": 0,
      "outputs": []
    },
    {
      "cell_type": "code",
      "metadata": {
        "id": "0Sc9vHwbInNe",
        "colab_type": "code",
        "colab": {},
        "cellView": "form"
      },
      "source": [
        "#@title\n",
        "# additionally, if an animal did not survive surgery, all non surgery dates should also be NaT\n",
        "df_case_tracker.loc[~df_case_tracker['survived_surgery'], 'perfusion_date': 'scanning_date'] = pd.NaT"
      ],
      "execution_count": 0,
      "outputs": []
    },
    {
      "cell_type": "code",
      "metadata": {
        "id": "CNMZeOMqInNf",
        "colab_type": "code",
        "colab": {},
        "cellView": "form"
      },
      "source": [
        "#@title\n",
        "# series.count(): count number of values in a series thats not missing value (NaN, NaT)\n",
        "print('surgery -> scanning completion cases in 2020 = ', df_case_tracker['scanning_date'].count())\n",
        "print('survived surgery cases in 2020 = ', df_case_tracker['survived_surgery'].sum())\n",
        "print('surgery cases in 2020 = ', len(df_case_tracker.index))"
      ],
      "execution_count": 0,
      "outputs": []
    }
  ]
}