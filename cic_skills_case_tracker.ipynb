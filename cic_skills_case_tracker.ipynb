{
  "nbformat": 4,
  "nbformat_minor": 0,
  "metadata": {
    "colab": {
      "name": "cic_skills_case_tracker.ipynb",
      "provenance": [],
      "collapsed_sections": [],
      "include_colab_link": true
    },
    "kernelspec": {
      "display_name": "Python 3",
      "language": "python",
      "name": "python3"
    },
    "language_info": {
      "codemirror_mode": {
        "name": "ipython",
        "version": 3
      },
      "file_extension": ".py",
      "mimetype": "text/x-python",
      "name": "python",
      "nbconvert_exporter": "python",
      "pygments_lexer": "ipython3",
      "version": "3.7.6"
    }
  },
  "cells": [
    {
      "cell_type": "markdown",
      "metadata": {
        "id": "view-in-github",
        "colab_type": "text"
      },
      "source": [
        "<a href=\"https://colab.research.google.com/github/muyezhu/connectome/blob/master/cic_skills_case_tracker.ipynb\" target=\"_parent\"><img src=\"https://colab.research.google.com/assets/colab-badge.svg\" alt=\"Open In Colab\"/></a>"
      ]
    },
    {
      "cell_type": "code",
      "metadata": {
        "colab_type": "code",
        "id": "dbObwIAAYP3R",
        "colab": {}
      },
      "source": [
        "import pandas as pd"
      ],
      "execution_count": 0,
      "outputs": []
    },
    {
      "cell_type": "code",
      "metadata": {
        "id": "iK2nuJiRYok9",
        "colab_type": "code",
        "colab": {}
      },
      "source": [
        "# review: pandas uses DataFrame to represent tabular data\n",
        "# each row in a DataFrame is an observation/unit/entity, each column in a DataFrame is a feature associated with observations\n",
        "# each row and column has a label within the DataFrame. The row labels are known as an \"Index\"\n",
        "# example: grocery store sales of egg and milk on Monday through Friday\n",
        "# what are the rows and columns?"
      ],
      "execution_count": 0,
      "outputs": []
    },
    {
      "cell_type": "code",
      "metadata": {
        "id": "GLiLmqXUYolB",
        "colab_type": "code",
        "colab": {}
      },
      "source": [
        "# possibility 1\n",
        "#          egg     milk\n",
        "# Mon       1        1\n",
        "# Tue       3        2\n",
        "# Wed       0        8\n",
        "# Thurs     9        2\n",
        "# Friday    8        8\n",
        "# what is the index? what are the column names?"
      ],
      "execution_count": 0,
      "outputs": []
    },
    {
      "cell_type": "code",
      "metadata": {
        "id": "bXxPblJ0YolE",
        "colab_type": "code",
        "colab": {}
      },
      "source": [
        "# review: each column in a DataFrame is a \"Series\". the name of the Series is identical to the column name\n",
        "# Series have index too. aka the rows in Series also have labels. all Series in the same DataFrame share identical index\n",
        "# to create a DataFrame, we provide each Series as 'series_name/column_name': series_data\n",
        "sales1 = {\n",
        "    'egg': [1, 3, 0, 9, 8],\n",
        "    'milk': [1, 2, 8, 2, 8]\n",
        "}\n",
        "df_sales1 = pd.DataFrame(data=sales1)\n",
        "df_sales1"
      ],
      "execution_count": 0,
      "outputs": []
    },
    {
      "cell_type": "code",
      "metadata": {
        "id": "cd8lWARLYolI",
        "colab_type": "code",
        "colab": {}
      },
      "source": [
        "# good. but something's missing. notice the index of the DataFrame: it's now 0, 1, 2, 3, 4. this is the default index (known as RangeIndex)\n",
        "# pandas assigns for a DataFrame if user didn't specify the index. but we want the index to be the week days instead\n",
        "weekdays = ['Mon', 'Tue', 'Wed', 'Thurs', 'Fri']\n",
        "sales1 = {\n",
        "    'egg': [1, 3, 0, 9, 8],\n",
        "    'milk': [1, 2, 8, 2, 8]\n",
        "}\n",
        "df_sales1 = pd.DataFrame(data=sales1, index=weekdays)\n",
        "df_sales1"
      ],
      "execution_count": 0,
      "outputs": []
    },
    {
      "cell_type": "code",
      "metadata": {
        "id": "3zu8TCWxYolN",
        "colab_type": "code",
        "colab": {}
      },
      "source": [
        "# notice: the index, if given, must have the same number of entries as the data columns.\n",
        "# try in this cell what happens if we remove one entry from weekdays\n"
      ],
      "execution_count": 0,
      "outputs": []
    },
    {
      "cell_type": "code",
      "metadata": {
        "id": "HuJVQfzEYolT",
        "colab_type": "code",
        "colab": {}
      },
      "source": [
        "# possibility 2: how should we fill this following table which has egg and milk as the rows now?\n",
        "#        Mon     Tue     Wed     Thur    Fri\n",
        "# egg\n",
        "# milk"
      ],
      "execution_count": 0,
      "outputs": []
    },
    {
      "cell_type": "code",
      "metadata": {
        "id": "3IZyJ9aMYolV",
        "colab_type": "code",
        "colab": {}
      },
      "source": [
        "#        Mon     Tue     Wed     Thur    Fri\n",
        "# egg     1       3       0        9      8\n",
        "# milk    1       2       8        2      8"
      ],
      "execution_count": 0,
      "outputs": []
    },
    {
      "cell_type": "code",
      "metadata": {
        "id": "gkVA7EoYYola",
        "colab_type": "code",
        "colab": {}
      },
      "source": [
        "# now make a DataFrame for this table\n",
        "# here's some hints\n",
        "items = ['egg', 'milk']\n",
        "sales2 = {\n",
        "    'Mon': [1, 1],\n",
        "}"
      ],
      "execution_count": 0,
      "outputs": []
    },
    {
      "cell_type": "code",
      "metadata": {
        "id": "Ldxi2APrYolh",
        "colab_type": "code",
        "colab": {}
      },
      "source": [
        "items = ['egg', 'milk']\n",
        "sales2 = {\n",
        "    'Mon': [1, 1],\n",
        "    'Tue': [3, 2],\n",
        "    'Wed': [0, 8],\n",
        "    'Thur': [9, 2], \n",
        "    'Fri': [8, 8]\n",
        "}\n",
        "df_sales2 = pd.DataFrame(data=sales2, index=items)\n",
        "df_sales2"
      ],
      "execution_count": 0,
      "outputs": []
    },
    {
      "cell_type": "code",
      "metadata": {
        "id": "8FWciVGSYolk",
        "colab_type": "code",
        "colab": {}
      },
      "source": [
        "# to access individual Series in the DataFrame, for example the 'Mon' Series in df_sales2\n",
        "df_sales2['Mon']"
      ],
      "execution_count": 0,
      "outputs": []
    },
    {
      "cell_type": "code",
      "metadata": {
        "id": "Z5-nNqyDYolo",
        "colab_type": "code",
        "colab": {}
      },
      "source": [
        "# now try access the 'milk' Series from df_sales1 here\n"
      ],
      "execution_count": 0,
      "outputs": []
    },
    {
      "cell_type": "code",
      "metadata": {
        "id": "Xkm6KNRoYolr",
        "colab_type": "code",
        "colab": {}
      },
      "source": [
        "df_sales1['milk']"
      ],
      "execution_count": 0,
      "outputs": []
    },
    {
      "cell_type": "code",
      "metadata": {
        "id": "ipEec6MCYolu",
        "colab_type": "code",
        "colab": {}
      },
      "source": [
        "# .loc accessor: allows accessing elements in the DataFrame with row and column labels\n",
        "# using df_sales2, to retrieve egg sales on Wednesday\n",
        "df_sales2.loc['egg', 'Wed']"
      ],
      "execution_count": 0,
      "outputs": []
    },
    {
      "cell_type": "code",
      "metadata": {
        "id": "epQx3dNbYolx",
        "colab_type": "code",
        "colab": {}
      },
      "source": [
        "# .loc accessor: if only row label is given, all columns in the row are returned\n",
        "df_sales2.loc['egg']"
      ],
      "execution_count": 0,
      "outputs": []
    },
    {
      "cell_type": "code",
      "metadata": {
        "id": "80IkO7MNYol2",
        "colab_type": "code",
        "colab": {}
      },
      "source": [
        "# .loc also accept list of row and column labels\n",
        "df_sales2.loc[['egg', 'milk'], ['Tue', 'Wed', 'Thur']]"
      ],
      "execution_count": 0,
      "outputs": []
    },
    {
      "cell_type": "code",
      "metadata": {
        "id": "5Z7_L19NYol6",
        "colab_type": "code",
        "colab": {}
      },
      "source": [
        "# .loc accessor also understands a range of labels\n",
        "# using df_sales2 to retrieve egg and milk sales from Tuesday to Thursday\n",
        "df_sales2.loc['egg': 'milk', 'Tue': 'Thur']"
      ],
      "execution_count": 0,
      "outputs": []
    },
    {
      "cell_type": "code",
      "metadata": {
        "id": "1sCKg2oCYol9",
        "colab_type": "code",
        "colab": {}
      },
      "source": [
        "# now try retrieve milk sales from Wed to Friday from df_sales1\n"
      ],
      "execution_count": 0,
      "outputs": []
    },
    {
      "cell_type": "code",
      "metadata": {
        "id": "1vFm-mSPYomD",
        "colab_type": "code",
        "colab": {}
      },
      "source": [
        "df_sales1.loc['Wed':'Fri', 'milk']"
      ],
      "execution_count": 0,
      "outputs": []
    },
    {
      "cell_type": "code",
      "metadata": {
        "id": "U_4x097EYomJ",
        "colab_type": "code",
        "colab": {}
      },
      "source": [
        "# .loc can also be used to select an entire series/column in a dataframe. think about how\n",
        "# try access the 'milk' Series from df_sales1 again, this time with .loc"
      ],
      "execution_count": 0,
      "outputs": []
    },
    {
      "cell_type": "code",
      "metadata": {
        "id": "d6MOjxUZYomk",
        "colab_type": "code",
        "colab": {}
      },
      "source": [
        "df_sales1.loc[:, 'milk']"
      ],
      "execution_count": 0,
      "outputs": []
    },
    {
      "cell_type": "code",
      "metadata": {
        "id": "jHpsDLkTYomv",
        "colab_type": "code",
        "colab": {}
      },
      "source": [
        "# finally, .loc understands list of boolean values\n",
        "# when a True value is encountered, the corresponding row/column is slected. \n",
        "# with pick_days, we select only Monday and Thursday\n",
        "pick_days = [True, False, False, True, False]\n",
        "df_sales2.loc[:, pick_days]"
      ],
      "execution_count": 0,
      "outputs": []
    },
    {
      "cell_type": "code",
      "metadata": {
        "id": "R1EKL21CYomz",
        "colab_type": "code",
        "colab": {}
      },
      "source": [
        "# now try select from df_sales1 the Tuesday and Friday rows\n"
      ],
      "execution_count": 0,
      "outputs": []
    },
    {
      "cell_type": "code",
      "metadata": {
        "id": "UrqZtQ2CYom1",
        "colab_type": "code",
        "colab": {}
      },
      "source": [
        "df_sales1.loc[[False, True, False, False, True], :]"
      ],
      "execution_count": 0,
      "outputs": []
    },
    {
      "cell_type": "code",
      "metadata": {
        "id": "nhkzF6yCYom7",
        "colab_type": "code",
        "colab": {}
      },
      "source": [
        "# we can also use .loc to add new rows. note the index of the new row needs to be one that doesn't exist in the current dataframe\n",
        "# otherwise an old row will be overwritten with new data\n",
        "df_sales2.loc['ham'] = [7, 6, 2, 2, 5]\n",
        "df_sales2"
      ],
      "execution_count": 0,
      "outputs": []
    },
    {
      "cell_type": "code",
      "metadata": {
        "id": "qkUdtQ2OYom_",
        "colab_type": "code",
        "colab": {}
      },
      "source": [
        "# how about adding new column? recall how to access a column: df_sales2['Mon'], without .loc\n",
        "# if we use the same syntax with a column label that doesn't exist in the dataframe, we can create a new column\n",
        "df_sales2['Sat'] = [20, 30, 19]\n",
        "df_sales2"
      ],
      "execution_count": 0,
      "outputs": []
    },
    {
      "cell_type": "code",
      "metadata": {
        "id": "eNgm_5jOYonF",
        "colab_type": "code",
        "colab": {}
      },
      "source": [
        "# now try to work adding row and column to df_sales1, such that df_sales1 will have sales data for egg, milk, ham from Mon to Sat\n",
        "# sales data should match between df_sales2 and df_sales1\n"
      ],
      "execution_count": 0,
      "outputs": []
    },
    {
      "cell_type": "code",
      "metadata": {
        "id": "Wky1ufvsYonH",
        "colab_type": "code",
        "colab": {}
      },
      "source": [
        "df_sales1['ham'] = [7, 6, 2, 2, 5]\n",
        "df_sales1.loc['Sat'] = [20, 30, 19]\n",
        "df_sales1"
      ],
      "execution_count": 0,
      "outputs": []
    },
    {
      "cell_type": "code",
      "metadata": {
        "id": "-0zve8AOYonK",
        "colab_type": "code",
        "colab": {}
      },
      "source": [
        "# pd.DataFrame.describe(): generate descriptive statistics of a dataframe\n",
        "df_sales1.describe()"
      ],
      "execution_count": 0,
      "outputs": []
    },
    {
      "cell_type": "code",
      "metadata": {
        "id": "pE-4MmaLYonM",
        "colab_type": "code",
        "colab": {}
      },
      "source": [
        "# compare dataframe entries to a given value \n",
        "df_sales1 > 0"
      ],
      "execution_count": 0,
      "outputs": []
    },
    {
      "cell_type": "code",
      "metadata": {
        "id": "Y1NlE28bYonT",
        "colab_type": "code",
        "colab": {}
      },
      "source": [
        "# output if df_sales1's ham series is less than 10\n"
      ],
      "execution_count": 0,
      "outputs": []
    },
    {
      "cell_type": "code",
      "metadata": {
        "id": "8K7bnwW3YonX",
        "colab_type": "code",
        "colab": {}
      },
      "source": [
        "df_sales1['milk'] < 10"
      ],
      "execution_count": 0,
      "outputs": []
    },
    {
      "cell_type": "code",
      "metadata": {
        "id": "EgQXWm6TYonc",
        "colab_type": "code",
        "colab": {}
      },
      "source": [
        "# pd.DataFrame.mean()\n",
        "# average egg, milk and ham sales in a week\n",
        "# axis=0 tells pandas to calculate mean for each column\n",
        "# similarly, axis=1 will calculate mean for each row\n",
        "# by default, pandas consider axis to be equal to 0\n",
        "df_sales1.mean(axis=0)"
      ],
      "execution_count": 0,
      "outputs": []
    },
    {
      "cell_type": "code",
      "metadata": {
        "id": "wiLfUgxgYonn",
        "colab_type": "code",
        "colab": {}
      },
      "source": [
        "df_sales1.mean()"
      ],
      "execution_count": 0,
      "outputs": []
    },
    {
      "cell_type": "code",
      "metadata": {
        "id": "ZZE8XyP0Yonq",
        "colab_type": "code",
        "colab": {}
      },
      "source": [
        "# pd.DataFrame.sum()\n",
        "# calculate total number of items sold each day in df_sales1\n"
      ],
      "execution_count": 0,
      "outputs": []
    },
    {
      "cell_type": "code",
      "metadata": {
        "id": "tubrfCQ_Yons",
        "colab_type": "code",
        "colab": {}
      },
      "source": [
        "df_sales1.sum(axis=1)"
      ],
      "execution_count": 0,
      "outputs": []
    },
    {
      "cell_type": "code",
      "metadata": {
        "id": "n697y29JYonu",
        "colab_type": "code",
        "colab": {}
      },
      "source": [
        "# pd.DataFrame.max()\n",
        "df_sales1.max()"
      ],
      "execution_count": 0,
      "outputs": []
    },
    {
      "cell_type": "code",
      "metadata": {
        "id": "M9AH5xsjYony",
        "colab_type": "code",
        "colab": {}
      },
      "source": [
        "# pd.DataFrame.std(): standard deviation. \n",
        "# roughly, it is the average distance from a data point to the mean of the data set\n",
        "df_sales1.std()"
      ],
      "execution_count": 0,
      "outputs": []
    },
    {
      "cell_type": "code",
      "metadata": {
        "id": "QdCzPTrpYon6",
        "colab_type": "code",
        "colab": {}
      },
      "source": [
        "# read dataset of individual height, weight, age, gender\n",
        "howell_url = 'https://drive.google.com/uc?export=download&id=1gN0K5H9ybNqsZm_L6x4tcZV-a-nj17r4'\n",
        "df_height = pd.read_csv(howell_url, index_col=0)\n",
        "df_height = df_height.rename(columns={'male': 'gender'})\n",
        "df_height.gender = df_height.gender.astype('category').cat.rename_categories(['female', 'male'])\n",
        "df_height.head()"
      ],
      "execution_count": 0,
      "outputs": []
    },
    {
      "cell_type": "code",
      "metadata": {
        "id": "qbkINeKbYon8",
        "colab_type": "code",
        "colab": {}
      },
      "source": [
        "df_height.describe()"
      ],
      "execution_count": 0,
      "outputs": []
    },
    {
      "cell_type": "code",
      "metadata": {
        "id": "JIYBF3rNYooJ",
        "colab_type": "code",
        "colab": {}
      },
      "source": [
        "# lets examine adults, who are >= 18 of age\n",
        "# .loc accessor comes in again\n",
        "# how to select only the adult portion of the dataframe?\n"
      ],
      "execution_count": 0,
      "outputs": []
    },
    {
      "cell_type": "code",
      "metadata": {
        "id": "7H5KvoPnYooN",
        "colab_type": "code",
        "colab": {}
      },
      "source": [
        "df_height_adult = df_height.loc[df_height.age >= 18, :]\n",
        "df_height_adult[['age', 'height']].describe()"
      ],
      "execution_count": 0,
      "outputs": []
    },
    {
      "cell_type": "code",
      "metadata": {
        "id": "BtEXiP9FYooZ",
        "colab_type": "code",
        "colab": {}
      },
      "source": [
        "# frequencies of adult heights by gender (essentially a smooth histogram)\n",
        "# what can you conclude from the figure\n",
        "import seaborn as sns\n",
        "sns.distplot(df_height_adult.loc[df_height_adult.gender == 'male', 'height'], hist=False, label='adult male')\n",
        "sns.distplot(df_height_adult.loc[df_height_adult.gender == 'female', 'height'], hist=False, label='adult female')\n",
        "sns.distplot(df_height_adult.loc[:, 'height'], hist=False, label='adult male + female')"
      ],
      "execution_count": 0,
      "outputs": []
    },
    {
      "cell_type": "code",
      "metadata": {
        "id": "n_0CHaxDYoob",
        "colab_type": "code",
        "colab": {}
      },
      "source": [
        "# the average adult male height is greater than the adult female heights\n",
        "# when male and female data are combined, the curve become flatter and loses the sharp peak\n",
        "# and flatter means greater standard deviation"
      ],
      "execution_count": 0,
      "outputs": []
    },
    {
      "cell_type": "code",
      "metadata": {
        "id": "ETDsn0-JYood",
        "colab_type": "code",
        "colab": {}
      },
      "source": [
        "df_height_adult.groupby('gender')['height'].describe()"
      ],
      "execution_count": 0,
      "outputs": []
    },
    {
      "cell_type": "code",
      "metadata": {
        "id": "oa1YtKEGYooj",
        "colab_type": "code",
        "colab": {}
      },
      "source": [
        "# standard deviation is deeply connected to ANOVA, an important statistical used to \n",
        "# test differences between group means (control vs treatment, treatment1 vs treatment2 vs treatment3 etc)\n",
        "from scipy.stats import f_oneway\n",
        "F, pval = f_oneway(df_height_adult.loc[df_height_adult.gender == 'male', 'height'], \n",
        "                   df_height_adult.loc[df_height_adult.gender == 'female', 'height'])\n",
        "# the ANOVA test is very, very, very sure that the mean of female and male adult heights are different \n",
        "print('p-value for one way anova = ', pval)"
      ],
      "execution_count": 0,
      "outputs": []
    },
    {
      "cell_type": "code",
      "metadata": {
        "id": "6b4s2Pb1Yoov",
        "colab_type": "code",
        "colab": {}
      },
      "source": [
        "# if we combine adult and children, the standard deviation visibly increase\n",
        "sns.distplot(df_height.loc[df_height.gender == 'male', 'height'], hist=False, label='all male')\n",
        "sns.distplot(df_height.loc[df_height.gender == 'female', 'height'], hist=False, label='all female')"
      ],
      "execution_count": 0,
      "outputs": []
    },
    {
      "cell_type": "code",
      "metadata": {
        "id": "ArCFKCQ6Yoox",
        "colab_type": "code",
        "colab": {}
      },
      "source": [
        "df_height.groupby('gender')['height'].describe()"
      ],
      "execution_count": 0,
      "outputs": []
    },
    {
      "cell_type": "code",
      "metadata": {
        "id": "gA6WuS_uYooz",
        "colab_type": "code",
        "colab": {}
      },
      "source": [
        "# the ANOVA test is still very sure that the mean of female and male heights are different, but\n",
        "# less so then when only adults are examined\n",
        "F, pval = f_oneway(df_height.loc[df_height.gender == 'male', 'height'], \n",
        "                   df_height.loc[df_height.gender == 'female', 'height'])\n",
        "print('p-value for one way anova = ', pval)"
      ],
      "execution_count": 0,
      "outputs": []
    },
    {
      "cell_type": "markdown",
      "metadata": {
        "colab_type": "text",
        "id": "uo-QvnvgYTiB"
      },
      "source": [
        "case tracker over view:\n",
        "\n",
        "For each brain, which is assigned a case ID\n",
        "\n",
        "* Tissue processing stages\n",
        "    1. Surgery: surgery date, planned injection location, survived surgery, perfusion date, surgeon (injection strategy, etc)\n",
        "    2. Sectioning: section date, plane, thickness, tech\n",
        "    3. Staining: staining date, staining target, tech\n",
        "    4. Mounting: mounting date, tech\n",
        "    5. Scanning: scanning date, vsi path, actual injection location, quality, tech\n",
        "\n",
        "* Image processing stages\n",
        "    1. Import: osp path, tech\n",
        "    2. Registration\n",
        "    3. Threshold\n",
        "    4. Overlap\n",
        "\n",
        "* Big picture stuff\n",
        "    1. Scientific project\n",
        "    2. Quarterly report"
      ]
    },
    {
      "cell_type": "code",
      "metadata": {
        "id": "Hkk_wPm6Yoo5",
        "colab_type": "code",
        "colab": {}
      },
      "source": [
        "# say we want to create a DataFrame of case trackers. what do you think the DataFrame should looke like?\n",
        "# whats the row index? what are the columns?"
      ],
      "execution_count": 0,
      "outputs": []
    },
    {
      "cell_type": "code",
      "metadata": {
        "id": "hGQmxYc-Yoo7",
        "colab_type": "code",
        "colab": {}
      },
      "source": [
        "ids = ['SW190319-01', 'SW190320-01']\n",
        "simple_tracker = {\n",
        "    'surgeon': ['A', 'B'],\n",
        "    'survived_surgery': [True, False]\n",
        "}\n",
        "df_simple_tracker = pd.DataFrame(data=simple_tracker, index=ids)\n",
        "df_simple_tracker"
      ],
      "execution_count": 0,
      "outputs": []
    },
    {
      "cell_type": "code",
      "metadata": {
        "colab_type": "code",
        "id": "lg8ONj6yffKX",
        "colab": {}
      },
      "source": [
        "from pandas.tseries.holiday import USFederalHolidayCalendar\n",
        "from pandas.tseries.offsets import CustomBusinessDay\n",
        "import numpy as np\n",
        "from numpy.random import choice, uniform\n",
        "import matplotlib.pyplot as plt\n",
        "\n",
        "\n",
        "def workdays_2020():\n",
        "      # don't come to work on weekends / holidays!\n",
        "      bday_offset = CustomBusinessDay(calendar=USFederalHolidayCalendar())\n",
        "      # a list of working days\n",
        "      work_days = pd.bdate_range(start='2020-01-01', end='2020-12-31', freq=bday_offset)\n",
        "      return work_days\n",
        "\n",
        "def generate_case_ids():\n",
        "      # gather all work days in 2020 (exclude weekends, holidays)\n",
        "      work_days = workdays_2020()\n",
        "      # on each work day, between [0, 10] surgeries are done, with 4 surgeries being the most common occurrence\n",
        "      # surgery numbers   0  1  2  3  4  5  6  7  8  9  10 \n",
        "      chances = np.array([2, 2, 3, 3, 4, 3, 3, 2, 2, 1, 1])\n",
        "      case_ids = []\n",
        "      ns = []\n",
        "      for work_day in work_days:\n",
        "          n = choice([0, 1, 2, 3, 4, 5, 6, 7, 8, 9, 10], p=chances / np.sum(chances))\n",
        "          ns.append(n)\n",
        "          if n > 0:\n",
        "              case_ids.extend(['SW{}-{}'.format(work_day.strftime('%Y%m%d'), str(i).zfill(2)) for i in range(1, n + 1)])\n",
        "      plt.hist(ns)    \n",
        "      plt.xlabel('number of surgeries in a day')\n",
        "      return case_ids   \n",
        "\n",
        "\n",
        "def generate_techs(n):\n",
        "    all_techs = ['Amy', 'Andrew', 'Emma', 'Mathew', 'Lucy', 'Edward', 'Danice', 'Zack', 'Betty', 'Rob']\n",
        "    return choice(all_techs, size=(n,), replace=True)"
      ],
      "execution_count": 0,
      "outputs": []
    },
    {
      "cell_type": "code",
      "metadata": {
        "colab_type": "code",
        "id": "gny3SjzcPy52",
        "colab": {}
      },
      "source": [
        "# let's simulate the bare minimum components for a dataframe of case trackers in 2020\n",
        "def generate_case_trackers():\n",
        "    # assuming surgeons work on non holiday weekdays, and between [0, 10] cases of surgeries\n",
        "    # are conducted on such days, lets generate case_ids, which is also the index of our dataframe\n",
        "    case_ids = generate_case_ids()\n",
        "    n_cases = len(case_ids)\n",
        "    # now we add some columns\n",
        "    case_tracker = {\n",
        "        # date of surgery: from case id. this series is of \"datetime\" type. more on this later \n",
        "        'surgery_date': pd.to_datetime(case_ids, format='%Y%m%d', exact=False),\n",
        "        # planned coordinates (x, y, z)\n",
        "        'planned_x': uniform(low=0, high=3, size=(n_cases,)),\n",
        "        'planned_y': uniform(low=-7, high=4, size=(n_cases,)),\n",
        "        'planned_z': uniform(low=-5, high=0, size=(n_cases,)),\n",
        "        # the surgeon for each case\n",
        "        'surgeon': generate_techs(n_cases),\n",
        "        # whether animal survived the surgery\n",
        "        'survived_surgery': choice([True, False], size=(n_cases,), p=[0.9, 0.1])\n",
        "    }\n",
        "    df_tracker = pd.DataFrame(data=case_tracker, index=case_ids)\n",
        "    return df_tracker"
      ],
      "execution_count": 0,
      "outputs": []
    },
    {
      "cell_type": "code",
      "metadata": {
        "id": "ysC4DRAjYopD",
        "colab_type": "code",
        "colab": {}
      },
      "source": [
        "df_case_tracker = generate_case_trackers()  \n",
        "df_case_tracker.head(n=5)"
      ],
      "execution_count": 0,
      "outputs": []
    },
    {
      "cell_type": "code",
      "metadata": {
        "id": "KfuCP9F9YopF",
        "colab_type": "code",
        "colab": {}
      },
      "source": [
        "df_case_tracker.info()"
      ],
      "execution_count": 0,
      "outputs": []
    },
    {
      "cell_type": "markdown",
      "metadata": {
        "id": "8JpQ_AZ0YopH",
        "colab_type": "text"
      },
      "source": [
        "variable types in statistical analyses\n",
        "* nominal (categorical): unordered categorical variables, where a categorical variable is a variable that can take on one of a limited, and usually fixed, number of possible values. for nominal variables, the categories have no logical orderings. e.g. blood type, race, gender, zip code\n",
        "* ordinal (categorical): ordered categorical variables. e.g. movie ratings (\"great\", \"good\", \"meh\", \"sucks!\"), income levels (\"high income\", \"median income\", \"low income\"), military rank\n",
        "* interval (numerical): ordered. additionally, difference between two values are meaningful.  e.g. temperature, credit score\n",
        "* ratio (numerical): has all the properties of an interval variable, and also has a clear definition of zero. When the variable equals 0.0, there is none of that variable. e.g. heart rate, enzyme activity, weight"
      ]
    },
    {
      "cell_type": "code",
      "metadata": {
        "id": "lYzZdF2jYopH",
        "colab_type": "code",
        "colab": {}
      },
      "source": [
        "# what type of variable is \"planned_x\"?"
      ],
      "execution_count": 0,
      "outputs": []
    },
    {
      "cell_type": "code",
      "metadata": {
        "id": "CwR7o4_mYopK",
        "colab_type": "code",
        "colab": {}
      },
      "source": [
        "# what type of variable is \"surgeon\"? what about \"survived_surgery\"?"
      ],
      "execution_count": 0,
      "outputs": []
    },
    {
      "cell_type": "code",
      "metadata": {
        "id": "bbEuOoeqYopM",
        "colab_type": "code",
        "colab": {}
      },
      "source": [
        "# lets change the surgeon column to unordered categorical variable\n",
        "df_case_tracker['surgeon'] = df_case_tracker['surgeon'].astype('category')\n",
        "df_case_tracker['surgeon'].dtype"
      ],
      "execution_count": 0,
      "outputs": []
    },
    {
      "cell_type": "code",
      "metadata": {
        "id": "6gUDi7DwYopO",
        "colab_type": "code",
        "colab": {}
      },
      "source": [
        "df_case_tracker['surgeon'].value_counts(sort=False)"
      ],
      "execution_count": 0,
      "outputs": []
    },
    {
      "cell_type": "code",
      "metadata": {
        "id": "T1mH-dPZYope",
        "colab_type": "code",
        "colab": {}
      },
      "source": [
        "_ = df_case_tracker['surgeon'].value_counts(sort=False).plot(kind='bar')"
      ],
      "execution_count": 0,
      "outputs": []
    },
    {
      "cell_type": "code",
      "metadata": {
        "id": "q-9H_CvjYopf",
        "colab_type": "code",
        "colab": {}
      },
      "source": [
        "# is \"surgery_date\" nominal, ordinal, interval or ratio?"
      ],
      "execution_count": 0,
      "outputs": []
    },
    {
      "cell_type": "code",
      "metadata": {
        "id": "xqdBzGcyYopm",
        "colab_type": "code",
        "colab": {}
      },
      "source": [
        "# series or index with datetime dtype supports many powerful pandas time series functionalities\n",
        "# for example, we can easily compare the datetime entries to a certain time of interest\n",
        "# are the surgery dates later than 2020 jan 1st?\n",
        "later_than_jan_1st = df_case_tracker['surgery_date'] > '2020-Jan-1'\n",
        "later_than_jan_1st.head()"
      ],
      "execution_count": 0,
      "outputs": []
    },
    {
      "cell_type": "code",
      "metadata": {
        "id": "oJZjyYpBYopp",
        "colab_type": "code",
        "colab": {}
      },
      "source": [
        "# are the surgery dates earlier than 2019 dec 31 st?\n",
        "# note than various format of specifying dates are recognized\n",
        "earlier_than_2020 = df_case_tracker['surgery_date'] < '2019-12-23'\n",
        "earlier_than_2020.head()"
      ],
      "execution_count": 0,
      "outputs": []
    },
    {
      "cell_type": "code",
      "metadata": {
        "id": "TSL7kd8HYops",
        "colab_type": "code",
        "colab": {}
      },
      "source": [
        "# are the surgery dates later than 2020 jan 1st but earlier than 2020 jan 6th?\n",
        "between_jan_1st_and_6th = (df_case_tracker['surgery_date'] > '2020-Jan-1') & (df_case_tracker['surgery_date'] < '2020-1-6')\n",
        "between_jan_1st_and_6th.head(n=10)"
      ],
      "execution_count": 0,
      "outputs": []
    },
    {
      "cell_type": "code",
      "metadata": {
        "id": "DwHtQfO2Yopy",
        "colab_type": "code",
        "colab": {}
      },
      "source": [
        "# this allows us to filter for surgeries performed during certain time periods\n",
        "# for example, let's select all cases for which surgeries were done between Feb 3rd and Feb 6th\n",
        "# we will again use the .loc accessor\n",
        "dates_wanted = (df_case_tracker['surgery_date'] >= '2020-Feb-3') & (df_case_tracker['surgery_date'] <= '2020-Feb-6')\n",
        "df_feb36 = df_case_tracker.loc[dates_wanted]\n",
        "df_feb36"
      ],
      "execution_count": 0,
      "outputs": []
    },
    {
      "cell_type": "code",
      "metadata": {
        "id": "qAb8bU3zYopz",
        "colab_type": "code",
        "colab": {}
      },
      "source": [
        "# this is a lot more advanced, as a show case of how we may potentially identify period of time where technical failures seem to occur more frequently than usual\n",
        "# if we also have records of equipment, reagent information for some time periods, it's possible to systemically find conditions detrimental for experiments\n",
        "# resample: divides data into specified time intervals, here each interval is a week, with each week starting on monday\n",
        "# the mean surgery survival is calculated for each week, based on the weekly intervals\n",
        "# the survival percent is then sorted, and 5 weeks with lowest surgery survival rate through 2020 is shown\n",
        "df_case_tracker.resample('W-Mon', on='surgery_date', label='right')['survived_surgery'].mean().sort_values().head(n=5)"
      ],
      "execution_count": 0,
      "outputs": []
    },
    {
      "cell_type": "code",
      "metadata": {
        "id": "H_lwjr_0Yop1",
        "colab_type": "code",
        "colab": {}
      },
      "source": [
        "# annual surgery survival rate (it's quite close to the value we used to simulate the case tracker data)\n",
        "df_case_tracker['survived_surgery'].mean()"
      ],
      "execution_count": 0,
      "outputs": []
    },
    {
      "cell_type": "code",
      "metadata": {
        "id": "RwfxVp-JYop7",
        "colab_type": "code",
        "colab": {}
      },
      "source": [
        "# what is a normal range of survival rate for a given week? because we have assigned a known individual survival rate here, \n",
        "# we can actually compute 95% confidence interval of weekly survival rates. but this is beyond the scope for now."
      ],
      "execution_count": 0,
      "outputs": []
    },
    {
      "cell_type": "code",
      "metadata": {
        "id": "zW4eO96LYoqF",
        "colab_type": "code",
        "colab": {}
      },
      "source": [
        "# now lets move on to add perfusion dates\n",
        "# lets say on average, perfusion happens 2 days after surgery\n",
        "from numpy.random import exponential\n",
        "days_till_perfuse = exponential(scale=2, size=(df_case_tracker.shape[0],))\n",
        "print('average days till perfusion =', np.mean(days_till_perfuse))\n",
        "days_till_perfuse = pd.to_timedelta(days_till_perfuse, unit='days')\n",
        "# add new column \"perfusion_date\", where perfusion_date = surgery_date + days_till_perfuse\n",
        "df_case_tracker['perfusion_date'] = df_case_tracker['surgery_date'] + days_till_perfuse\n",
        "df_case_tracker['perfusion_date'] = df_case_tracker['perfusion_date'].dt.round('D')\n",
        "df_case_tracker.head()"
      ],
      "execution_count": 0,
      "outputs": []
    },
    {
      "cell_type": "code",
      "metadata": {
        "id": "N6YBlFPNYoqH",
        "colab_type": "code",
        "colab": {}
      },
      "source": [
        "# now section, stain, mount and scanning dates will be added similarly\n",
        "# it's assumed that sectioning happens on average 2 days after perfusion, staining 2 days after sectioning, \n",
        "# mounting 5 days after staining, scanning 4 days after mounting\n",
        "days_till_step = pd.Series([2, 2, 5, 4], index=['sectioning', 'staining', 'mounting', 'scanning'])\n",
        "for i in range(len(days_till_step)):\n",
        "    days = exponential(scale=days_till_step[i], size=(df_case_tracker.shape[0],))\n",
        "    days = pd.to_timedelta(days, unit='days')\n",
        "    new_column_name = '{}_date'.format(days_till_step.index[i])\n",
        "    old_column_name = 'perfusion_date' if i == 0 else '{}_date'.format(days_till_step.index[i - 1])\n",
        "    df_case_tracker[new_column_name] = df_case_tracker[old_column_name] + days\n",
        "    df_case_tracker[new_column_name] = df_case_tracker[new_column_name].dt.round('D')\n",
        "df_case_tracker.head()"
      ],
      "execution_count": 0,
      "outputs": []
    },
    {
      "cell_type": "code",
      "metadata": {
        "id": "w2SbGmDWYoqI",
        "colab_type": "code",
        "colab": {}
      },
      "source": [
        "# how can you find out if there are any cases that haven't finished scanning by end of year?\n",
        "# select these cases if they exist\n",
        "# hint1: compare scanning_date to 2021-Jan-1st\n",
        "# hint2: use .loc accessor\n",
        "# hint3: take a look at the last rows and their scanning dates. do you know if there are any cases that haven't finished scanning by end of year now?\n",
        "df_case_tracker.tail()"
      ],
      "execution_count": 0,
      "outputs": []
    },
    {
      "cell_type": "code",
      "metadata": {
        "id": "NBeTYCjyYoqK",
        "colab_type": "code",
        "colab": {}
      },
      "source": [
        "df_case_tracker.loc[df_case_tracker['scanning_date'] >= '2021-01-01'].head()"
      ],
      "execution_count": 0,
      "outputs": []
    },
    {
      "cell_type": "code",
      "metadata": {
        "id": "M_MeRCMPYoqM",
        "colab_type": "code",
        "colab": {}
      },
      "source": [
        "# because we are only collecting data within year 2020, we are going to consider dates occuring in 2021 as invalid\n",
        "# to reflect this in the dataframe, we replace dates in 2021 with pd.NaT (Not a Time)\n",
        "# we need to use .loc to select all these date columns: perfusion, section, stain, mount, scan\n",
        "# how?"
      ],
      "execution_count": 0,
      "outputs": []
    },
    {
      "cell_type": "code",
      "metadata": {
        "id": "lOY27Y9CYoqQ",
        "colab_type": "code",
        "colab": {}
      },
      "source": [
        "df_case_tracker.loc[:, 'perfusion_date': 'scanning_date'].head()"
      ],
      "execution_count": 0,
      "outputs": []
    },
    {
      "cell_type": "code",
      "metadata": {
        "id": "Fg_7w5t-YoqU",
        "colab_type": "code",
        "colab": {}
      },
      "source": [
        "# if these dates falls in 2021, replace with NaT\n",
        "df_case_tracker.loc[:, 'perfusion_date': 'scanning_date'] = df_case_tracker.loc[:, 'perfusion_date': 'scanning_date'].where(df_case_tracker.loc[:, 'perfusion_date': 'scanning_date'] < '2021-01-01', pd.NaT)"
      ],
      "execution_count": 0,
      "outputs": []
    },
    {
      "cell_type": "code",
      "metadata": {
        "id": "Osdh1_qMYoqW",
        "colab_type": "code",
        "colab": {}
      },
      "source": [
        "df_case_tracker.tail()"
      ],
      "execution_count": 0,
      "outputs": []
    },
    {
      "cell_type": "code",
      "metadata": {
        "id": "vOY4cxHaYoqX",
        "colab_type": "code",
        "colab": {}
      },
      "source": [
        "# additionally, if an animal did not survive surgery, all non surgery dates should also be NaT\n",
        "df_case_tracker.loc[~df_case_tracker['survived_surgery'], 'perfusion_date': 'scanning_date'] = pd.NaT"
      ],
      "execution_count": 0,
      "outputs": []
    },
    {
      "cell_type": "code",
      "metadata": {
        "id": "nG-HMFKmYoqZ",
        "colab_type": "code",
        "colab": {}
      },
      "source": [
        "# series.count(): count number of values in a series thats not missing value (NaN, NaT)\n",
        "print('surgery -> scanning completion cases in 2020 = ', df_case_tracker['scanning_date'].count())\n",
        "print('survived surgery cases in 2020 = ', df_case_tracker['survived_surgery'].sum())\n",
        "print('surgery cases in 2020 = ', len(df_case_tracker.index))"
      ],
      "execution_count": 0,
      "outputs": []
    },
    {
      "cell_type": "code",
      "metadata": {
        "id": "VwjG3PV1Yoqb",
        "colab_type": "code",
        "colab": {}
      },
      "source": [
        ""
      ],
      "execution_count": 0,
      "outputs": []
    },
    {
      "cell_type": "code",
      "metadata": {
        "id": "xkMhn-jJYoqd",
        "colab_type": "code",
        "colab": {}
      },
      "source": [
        ""
      ],
      "execution_count": 0,
      "outputs": []
    }
  ]
}