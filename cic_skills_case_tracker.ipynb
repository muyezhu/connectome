{
  "nbformat": 4,
  "nbformat_minor": 0,
  "metadata": {
    "colab": {
      "name": "cic_skills_case_tracker.ipynb",
      "provenance": [],
      "collapsed_sections": [],
      "include_colab_link": true
    },
    "kernelspec": {
      "display_name": "Python 3",
      "language": "python",
      "name": "python3"
    },
    "language_info": {
      "codemirror_mode": {
        "name": "ipython",
        "version": 3
      },
      "file_extension": ".py",
      "mimetype": "text/x-python",
      "name": "python",
      "nbconvert_exporter": "python",
      "pygments_lexer": "ipython3",
      "version": "3.7.4"
    }
  },
  "cells": [
    {
      "cell_type": "markdown",
      "metadata": {
        "id": "view-in-github",
        "colab_type": "text"
      },
      "source": [
        "<a href=\"https://colab.research.google.com/github/muyezhu/connectome/blob/master/cic_skills_case_tracker.ipynb\" target=\"_parent\"><img src=\"https://colab.research.google.com/assets/colab-badge.svg\" alt=\"Open In Colab\"/></a>"
      ]
    },
    {
      "cell_type": "code",
      "metadata": {
        "colab_type": "code",
        "id": "dbObwIAAYP3R",
        "colab": {}
      },
      "source": [
        "import pandas as pd"
      ],
      "execution_count": 0,
      "outputs": []
    },
    {
      "cell_type": "code",
      "metadata": {
        "id": "hs2txoRpInLa",
        "colab_type": "code",
        "colab": {}
      },
      "source": [
        "# review: pandas uses DataFrame to represent tabular data\n",
        "# each row in a DataFrame is an observation/unit/entity, each column in a DataFrame is a feature associated with observations\n",
        "# each row and column has a label within the DataFrame. The row labels are known as an \"Index\"\n",
        "# example: grocery store sales of egg and milk on Monday through Friday\n",
        "# what are the rows and columns?"
      ],
      "execution_count": 0,
      "outputs": []
    },
    {
      "cell_type": "code",
      "metadata": {
        "id": "LxfWGHkZInLd",
        "colab_type": "code",
        "colab": {}
      },
      "source": [
        "# possibility 1\n",
        "#          egg     milk\n",
        "# Mon       1        1\n",
        "# Tue       3        2\n",
        "# Wed       0        8\n",
        "# Thurs     9        2\n",
        "# Friday    8        8\n",
        "# what is the index? what are the column names?"
      ],
      "execution_count": 0,
      "outputs": []
    },
    {
      "cell_type": "code",
      "metadata": {
        "id": "2dL7NPwCInLf",
        "colab_type": "code",
        "colab": {},
        "outputId": "743be0d2-8f26-4467-d283-1b89d8605197"
      },
      "source": [
        "# review: each column in a DataFrame is a \"Series\". the name of the Series is identical to the column name\n",
        "# Series have index too. aka the rows in Series also have labels. all Series in the same DataFrame share identical index\n",
        "# to create a DataFrame, we provide each Series as 'series_name/column_name': series_data\n",
        "sales1 = {\n",
        "    'egg': [1, 3, 0, 9, 8],\n",
        "    'milk': [1, 2, 8, 2, 8]\n",
        "}\n",
        "df_sales1 = pd.DataFrame(data=sales1)\n",
        "df_sales1"
      ],
      "execution_count": 0,
      "outputs": [
        {
          "output_type": "execute_result",
          "data": {
            "text/html": [
              "<div>\n",
              "<style scoped>\n",
              "    .dataframe tbody tr th:only-of-type {\n",
              "        vertical-align: middle;\n",
              "    }\n",
              "\n",
              "    .dataframe tbody tr th {\n",
              "        vertical-align: top;\n",
              "    }\n",
              "\n",
              "    .dataframe thead th {\n",
              "        text-align: right;\n",
              "    }\n",
              "</style>\n",
              "<table border=\"1\" class=\"dataframe\">\n",
              "  <thead>\n",
              "    <tr style=\"text-align: right;\">\n",
              "      <th></th>\n",
              "      <th>egg</th>\n",
              "      <th>milk</th>\n",
              "    </tr>\n",
              "  </thead>\n",
              "  <tbody>\n",
              "    <tr>\n",
              "      <th>0</th>\n",
              "      <td>1</td>\n",
              "      <td>1</td>\n",
              "    </tr>\n",
              "    <tr>\n",
              "      <th>1</th>\n",
              "      <td>3</td>\n",
              "      <td>2</td>\n",
              "    </tr>\n",
              "    <tr>\n",
              "      <th>2</th>\n",
              "      <td>0</td>\n",
              "      <td>8</td>\n",
              "    </tr>\n",
              "    <tr>\n",
              "      <th>3</th>\n",
              "      <td>9</td>\n",
              "      <td>2</td>\n",
              "    </tr>\n",
              "    <tr>\n",
              "      <th>4</th>\n",
              "      <td>8</td>\n",
              "      <td>8</td>\n",
              "    </tr>\n",
              "  </tbody>\n",
              "</table>\n",
              "</div>"
            ],
            "text/plain": [
              "   egg  milk\n",
              "0    1     1\n",
              "1    3     2\n",
              "2    0     8\n",
              "3    9     2\n",
              "4    8     8"
            ]
          },
          "metadata": {
            "tags": []
          },
          "execution_count": 4
        }
      ]
    },
    {
      "cell_type": "code",
      "metadata": {
        "id": "Qw4N7nFsInLj",
        "colab_type": "code",
        "colab": {},
        "outputId": "b770e8e0-c16e-4385-abbd-6e9a21cc6a35"
      },
      "source": [
        "# good. but something's missing. notice the index of the DataFrame: it's now 0, 1, 2, 3, 4. this is the default index (known as RangeIndex)\n",
        "# pandas assigns for a DataFrame if user didn't specify the index. but we want the index to be the week days instead\n",
        "weekdays = ['Mon', 'Tue', 'Wed', 'Thurs', 'Fri']\n",
        "sales1 = {\n",
        "    'egg': [1, 3, 0, 9, 8],\n",
        "    'milk': [1, 2, 8, 2, 8]\n",
        "}\n",
        "df_sales1 = pd.DataFrame(data=sales1, index=weekdays)\n",
        "df_sales1"
      ],
      "execution_count": 0,
      "outputs": [
        {
          "output_type": "execute_result",
          "data": {
            "text/html": [
              "<div>\n",
              "<style scoped>\n",
              "    .dataframe tbody tr th:only-of-type {\n",
              "        vertical-align: middle;\n",
              "    }\n",
              "\n",
              "    .dataframe tbody tr th {\n",
              "        vertical-align: top;\n",
              "    }\n",
              "\n",
              "    .dataframe thead th {\n",
              "        text-align: right;\n",
              "    }\n",
              "</style>\n",
              "<table border=\"1\" class=\"dataframe\">\n",
              "  <thead>\n",
              "    <tr style=\"text-align: right;\">\n",
              "      <th></th>\n",
              "      <th>egg</th>\n",
              "      <th>milk</th>\n",
              "    </tr>\n",
              "  </thead>\n",
              "  <tbody>\n",
              "    <tr>\n",
              "      <th>Mon</th>\n",
              "      <td>1</td>\n",
              "      <td>1</td>\n",
              "    </tr>\n",
              "    <tr>\n",
              "      <th>Tue</th>\n",
              "      <td>3</td>\n",
              "      <td>2</td>\n",
              "    </tr>\n",
              "    <tr>\n",
              "      <th>Wed</th>\n",
              "      <td>0</td>\n",
              "      <td>8</td>\n",
              "    </tr>\n",
              "    <tr>\n",
              "      <th>Thurs</th>\n",
              "      <td>9</td>\n",
              "      <td>2</td>\n",
              "    </tr>\n",
              "    <tr>\n",
              "      <th>Fri</th>\n",
              "      <td>8</td>\n",
              "      <td>8</td>\n",
              "    </tr>\n",
              "  </tbody>\n",
              "</table>\n",
              "</div>"
            ],
            "text/plain": [
              "       egg  milk\n",
              "Mon      1     1\n",
              "Tue      3     2\n",
              "Wed      0     8\n",
              "Thurs    9     2\n",
              "Fri      8     8"
            ]
          },
          "metadata": {
            "tags": []
          },
          "execution_count": 5
        }
      ]
    },
    {
      "cell_type": "code",
      "metadata": {
        "id": "lt8rnxvAInLm",
        "colab_type": "code",
        "colab": {}
      },
      "source": [
        "# notice: the index, if given, must have the same number of entries as the data columns.\n",
        "# try in this cell what happens if we remove one entry from weekdays\n"
      ],
      "execution_count": 0,
      "outputs": []
    },
    {
      "cell_type": "code",
      "metadata": {
        "id": "8npIY4tzInLp",
        "colab_type": "code",
        "colab": {}
      },
      "source": [
        "# possibility 2: how should we fill this following table which has egg and milk as the rows now?\n",
        "#        Mon     Tue     Wed     Thur    Fri\n",
        "# egg\n",
        "# milk"
      ],
      "execution_count": 0,
      "outputs": []
    },
    {
      "cell_type": "code",
      "metadata": {
        "id": "4MYpG2GxInLs",
        "colab_type": "code",
        "colab": {}
      },
      "source": [
        "#        Mon     Tue     Wed     Thur    Fri\n",
        "# egg     1       3       0        9      8\n",
        "# milk    1       2       8        2      8"
      ],
      "execution_count": 0,
      "outputs": []
    },
    {
      "cell_type": "code",
      "metadata": {
        "id": "PPzrlJnEInLu",
        "colab_type": "code",
        "colab": {}
      },
      "source": [
        "# now make a DataFrame for this table\n",
        "# here's some hints\n",
        "items = ['egg', 'milk']\n",
        "sales2 = {\n",
        "    'Mon': [1, 1],\n",
        "}"
      ],
      "execution_count": 0,
      "outputs": []
    },
    {
      "cell_type": "code",
      "metadata": {
        "id": "geiI6TuOInLy",
        "colab_type": "code",
        "colab": {},
        "outputId": "4fcab976-7868-41d6-a7c9-afb91ae38bb2"
      },
      "source": [
        "items = ['egg', 'milk']\n",
        "sales2 = {\n",
        "    'Mon': [1, 1],\n",
        "    'Tue': [3, 2],\n",
        "    'Wed': [0, 8],\n",
        "    'Thur': [9, 2], \n",
        "    'Fri': [8, 8]\n",
        "}\n",
        "df_sales2 = pd.DataFrame(data=sales2, index=items)\n",
        "df_sales2"
      ],
      "execution_count": 0,
      "outputs": [
        {
          "output_type": "execute_result",
          "data": {
            "text/html": [
              "<div>\n",
              "<style scoped>\n",
              "    .dataframe tbody tr th:only-of-type {\n",
              "        vertical-align: middle;\n",
              "    }\n",
              "\n",
              "    .dataframe tbody tr th {\n",
              "        vertical-align: top;\n",
              "    }\n",
              "\n",
              "    .dataframe thead th {\n",
              "        text-align: right;\n",
              "    }\n",
              "</style>\n",
              "<table border=\"1\" class=\"dataframe\">\n",
              "  <thead>\n",
              "    <tr style=\"text-align: right;\">\n",
              "      <th></th>\n",
              "      <th>Mon</th>\n",
              "      <th>Tue</th>\n",
              "      <th>Wed</th>\n",
              "      <th>Thur</th>\n",
              "      <th>Fri</th>\n",
              "    </tr>\n",
              "  </thead>\n",
              "  <tbody>\n",
              "    <tr>\n",
              "      <th>egg</th>\n",
              "      <td>1</td>\n",
              "      <td>3</td>\n",
              "      <td>0</td>\n",
              "      <td>9</td>\n",
              "      <td>8</td>\n",
              "    </tr>\n",
              "    <tr>\n",
              "      <th>milk</th>\n",
              "      <td>1</td>\n",
              "      <td>2</td>\n",
              "      <td>8</td>\n",
              "      <td>2</td>\n",
              "      <td>8</td>\n",
              "    </tr>\n",
              "  </tbody>\n",
              "</table>\n",
              "</div>"
            ],
            "text/plain": [
              "      Mon  Tue  Wed  Thur  Fri\n",
              "egg     1    3    0     9    8\n",
              "milk    1    2    8     2    8"
            ]
          },
          "metadata": {
            "tags": []
          },
          "execution_count": 7
        }
      ]
    },
    {
      "cell_type": "code",
      "metadata": {
        "id": "1mSi8fbZInL2",
        "colab_type": "code",
        "colab": {},
        "outputId": "37f9bbb7-c6ef-4fef-a426-3559290d5532"
      },
      "source": [
        "# to access individual Series in the DataFrame, for example the 'Mon' Series in df_sales2\n",
        "df_sales2['Mon']"
      ],
      "execution_count": 0,
      "outputs": [
        {
          "output_type": "execute_result",
          "data": {
            "text/plain": [
              "egg     1\n",
              "milk    1\n",
              "Name: Mon, dtype: int64"
            ]
          },
          "metadata": {
            "tags": []
          },
          "execution_count": 8
        }
      ]
    },
    {
      "cell_type": "code",
      "metadata": {
        "id": "64Xh9h1rInL5",
        "colab_type": "code",
        "colab": {}
      },
      "source": [
        "# now try access the 'milk' Series from df_sales1 here\n"
      ],
      "execution_count": 0,
      "outputs": []
    },
    {
      "cell_type": "code",
      "metadata": {
        "id": "WtGjucXMInL7",
        "colab_type": "code",
        "colab": {},
        "outputId": "49aef0e3-1ae3-457a-fa6d-7c60fa0b2055"
      },
      "source": [
        "df_sales1['milk']"
      ],
      "execution_count": 0,
      "outputs": [
        {
          "output_type": "execute_result",
          "data": {
            "text/plain": [
              "Mon      1\n",
              "Tue      2\n",
              "Wed      8\n",
              "Thurs    2\n",
              "Fri      8\n",
              "Name: milk, dtype: int64"
            ]
          },
          "metadata": {
            "tags": []
          },
          "execution_count": 9
        }
      ]
    },
    {
      "cell_type": "code",
      "metadata": {
        "id": "yM0yuoCkInL9",
        "colab_type": "code",
        "colab": {},
        "outputId": "9648e491-ead0-497c-e9a3-6c7bce432357"
      },
      "source": [
        "# .loc accessor: allows accessing elements in the DataFrame with row and column labels\n",
        "# using df_sales2, to retrieve egg sales on Wednesday\n",
        "df_sales2.loc['egg', 'Wed']"
      ],
      "execution_count": 0,
      "outputs": [
        {
          "output_type": "execute_result",
          "data": {
            "text/plain": [
              "0"
            ]
          },
          "metadata": {
            "tags": []
          },
          "execution_count": 10
        }
      ]
    },
    {
      "cell_type": "code",
      "metadata": {
        "id": "goUq9Y46InL_",
        "colab_type": "code",
        "colab": {},
        "outputId": "389e2c05-da51-41e5-ad5c-3c905b64f2a6"
      },
      "source": [
        "# .loc accessor: if only row label is given, all columns in the row are returned\n",
        "df_sales2.loc['egg']"
      ],
      "execution_count": 0,
      "outputs": [
        {
          "output_type": "execute_result",
          "data": {
            "text/plain": [
              "Mon     1\n",
              "Tue     3\n",
              "Wed     0\n",
              "Thur    9\n",
              "Fri     8\n",
              "Name: egg, dtype: int64"
            ]
          },
          "metadata": {
            "tags": []
          },
          "execution_count": 11
        }
      ]
    },
    {
      "cell_type": "code",
      "metadata": {
        "id": "IdWAjNP9InMC",
        "colab_type": "code",
        "colab": {},
        "outputId": "fedc85e2-7f21-46e3-bc5e-0c44df2d734c"
      },
      "source": [
        "# .loc also accept list of row and column labels\n",
        "df_sales2.loc[['egg', 'milk'], ['Tue', 'Wed', 'Thur']]"
      ],
      "execution_count": 0,
      "outputs": [
        {
          "output_type": "execute_result",
          "data": {
            "text/html": [
              "<div>\n",
              "<style scoped>\n",
              "    .dataframe tbody tr th:only-of-type {\n",
              "        vertical-align: middle;\n",
              "    }\n",
              "\n",
              "    .dataframe tbody tr th {\n",
              "        vertical-align: top;\n",
              "    }\n",
              "\n",
              "    .dataframe thead th {\n",
              "        text-align: right;\n",
              "    }\n",
              "</style>\n",
              "<table border=\"1\" class=\"dataframe\">\n",
              "  <thead>\n",
              "    <tr style=\"text-align: right;\">\n",
              "      <th></th>\n",
              "      <th>Tue</th>\n",
              "      <th>Wed</th>\n",
              "      <th>Thur</th>\n",
              "    </tr>\n",
              "  </thead>\n",
              "  <tbody>\n",
              "    <tr>\n",
              "      <th>egg</th>\n",
              "      <td>3</td>\n",
              "      <td>0</td>\n",
              "      <td>9</td>\n",
              "    </tr>\n",
              "    <tr>\n",
              "      <th>milk</th>\n",
              "      <td>2</td>\n",
              "      <td>8</td>\n",
              "      <td>2</td>\n",
              "    </tr>\n",
              "  </tbody>\n",
              "</table>\n",
              "</div>"
            ],
            "text/plain": [
              "      Tue  Wed  Thur\n",
              "egg     3    0     9\n",
              "milk    2    8     2"
            ]
          },
          "metadata": {
            "tags": []
          },
          "execution_count": 12
        }
      ]
    },
    {
      "cell_type": "code",
      "metadata": {
        "id": "mSb5Pa-SInME",
        "colab_type": "code",
        "colab": {},
        "outputId": "a837499d-fe2d-4ba1-b523-c276c0c3f19d"
      },
      "source": [
        "# .loc accessor also understands a range of labels\n",
        "# using df_sales2 to retrieve egg and milk sales from Tuesday to Thursday\n",
        "df_sales2.loc['egg': 'milk', 'Tue': 'Thur']"
      ],
      "execution_count": 0,
      "outputs": [
        {
          "output_type": "execute_result",
          "data": {
            "text/html": [
              "<div>\n",
              "<style scoped>\n",
              "    .dataframe tbody tr th:only-of-type {\n",
              "        vertical-align: middle;\n",
              "    }\n",
              "\n",
              "    .dataframe tbody tr th {\n",
              "        vertical-align: top;\n",
              "    }\n",
              "\n",
              "    .dataframe thead th {\n",
              "        text-align: right;\n",
              "    }\n",
              "</style>\n",
              "<table border=\"1\" class=\"dataframe\">\n",
              "  <thead>\n",
              "    <tr style=\"text-align: right;\">\n",
              "      <th></th>\n",
              "      <th>Tue</th>\n",
              "      <th>Wed</th>\n",
              "      <th>Thur</th>\n",
              "    </tr>\n",
              "  </thead>\n",
              "  <tbody>\n",
              "    <tr>\n",
              "      <th>egg</th>\n",
              "      <td>3</td>\n",
              "      <td>0</td>\n",
              "      <td>9</td>\n",
              "    </tr>\n",
              "    <tr>\n",
              "      <th>milk</th>\n",
              "      <td>2</td>\n",
              "      <td>8</td>\n",
              "      <td>2</td>\n",
              "    </tr>\n",
              "  </tbody>\n",
              "</table>\n",
              "</div>"
            ],
            "text/plain": [
              "      Tue  Wed  Thur\n",
              "egg     3    0     9\n",
              "milk    2    8     2"
            ]
          },
          "metadata": {
            "tags": []
          },
          "execution_count": 13
        }
      ]
    },
    {
      "cell_type": "code",
      "metadata": {
        "id": "co-mEkNzInMG",
        "colab_type": "code",
        "colab": {}
      },
      "source": [
        "# now try retrieve milk sales from Wed to Friday from df_sales1\n"
      ],
      "execution_count": 0,
      "outputs": []
    },
    {
      "cell_type": "code",
      "metadata": {
        "id": "omW_2GKxInMI",
        "colab_type": "code",
        "colab": {},
        "outputId": "0ca62084-3137-45e2-ae71-a884c2f0637a"
      },
      "source": [
        "df_sales1.loc['Wed':'Fri', 'milk']"
      ],
      "execution_count": 0,
      "outputs": [
        {
          "output_type": "execute_result",
          "data": {
            "text/plain": [
              "Wed      8\n",
              "Thurs    2\n",
              "Fri      8\n",
              "Name: milk, dtype: int64"
            ]
          },
          "metadata": {
            "tags": []
          },
          "execution_count": 14
        }
      ]
    },
    {
      "cell_type": "code",
      "metadata": {
        "id": "B84wO6I_InML",
        "colab_type": "code",
        "colab": {}
      },
      "source": [
        "# .loc can also be used to select an entire series/column in a dataframe. think about how\n",
        "# try access the 'milk' Series from df_sales1 again, this time with .loc"
      ],
      "execution_count": 0,
      "outputs": []
    },
    {
      "cell_type": "code",
      "metadata": {
        "id": "wI3rNkPrInMM",
        "colab_type": "code",
        "colab": {},
        "outputId": "9539f519-1423-45f3-c3e3-d61f3b8effa7"
      },
      "source": [
        "df_sales1.loc[:, 'milk']"
      ],
      "execution_count": 0,
      "outputs": [
        {
          "output_type": "execute_result",
          "data": {
            "text/plain": [
              "Mon      1\n",
              "Tue      2\n",
              "Wed      8\n",
              "Thurs    2\n",
              "Fri      8\n",
              "Name: milk, dtype: int64"
            ]
          },
          "metadata": {
            "tags": []
          },
          "execution_count": 16
        }
      ]
    },
    {
      "cell_type": "code",
      "metadata": {
        "id": "uw59FxExInMP",
        "colab_type": "code",
        "colab": {},
        "outputId": "04e7961e-fa93-4f69-e424-302aaf3f18ff"
      },
      "source": [
        "# finally, .loc understands list of boolean values\n",
        "# when a True value is encountered, the corresponding row/column is slected. \n",
        "# with pick_days, we select only Monday and Thursday\n",
        "pick_days = [True, False, False, True, False]\n",
        "df_sales2.loc[:, pick_days]"
      ],
      "execution_count": 0,
      "outputs": [
        {
          "output_type": "execute_result",
          "data": {
            "text/html": [
              "<div>\n",
              "<style scoped>\n",
              "    .dataframe tbody tr th:only-of-type {\n",
              "        vertical-align: middle;\n",
              "    }\n",
              "\n",
              "    .dataframe tbody tr th {\n",
              "        vertical-align: top;\n",
              "    }\n",
              "\n",
              "    .dataframe thead th {\n",
              "        text-align: right;\n",
              "    }\n",
              "</style>\n",
              "<table border=\"1\" class=\"dataframe\">\n",
              "  <thead>\n",
              "    <tr style=\"text-align: right;\">\n",
              "      <th></th>\n",
              "      <th>Mon</th>\n",
              "      <th>Thur</th>\n",
              "    </tr>\n",
              "  </thead>\n",
              "  <tbody>\n",
              "    <tr>\n",
              "      <th>egg</th>\n",
              "      <td>1</td>\n",
              "      <td>9</td>\n",
              "    </tr>\n",
              "    <tr>\n",
              "      <th>milk</th>\n",
              "      <td>1</td>\n",
              "      <td>2</td>\n",
              "    </tr>\n",
              "  </tbody>\n",
              "</table>\n",
              "</div>"
            ],
            "text/plain": [
              "      Mon  Thur\n",
              "egg     1     9\n",
              "milk    1     2"
            ]
          },
          "metadata": {
            "tags": []
          },
          "execution_count": 17
        }
      ]
    },
    {
      "cell_type": "code",
      "metadata": {
        "id": "IuHFF67EInMT",
        "colab_type": "code",
        "colab": {}
      },
      "source": [
        "# now try select from df_sales1 the Tuesday and Friday rows\n"
      ],
      "execution_count": 0,
      "outputs": []
    },
    {
      "cell_type": "code",
      "metadata": {
        "id": "810HmW3GInMV",
        "colab_type": "code",
        "colab": {},
        "outputId": "d2b3d12d-99fb-42cb-8028-b871f2f93b5d"
      },
      "source": [
        "df_sales1.loc[[False, True, False, False, True], :]"
      ],
      "execution_count": 0,
      "outputs": [
        {
          "output_type": "execute_result",
          "data": {
            "text/html": [
              "<div>\n",
              "<style scoped>\n",
              "    .dataframe tbody tr th:only-of-type {\n",
              "        vertical-align: middle;\n",
              "    }\n",
              "\n",
              "    .dataframe tbody tr th {\n",
              "        vertical-align: top;\n",
              "    }\n",
              "\n",
              "    .dataframe thead th {\n",
              "        text-align: right;\n",
              "    }\n",
              "</style>\n",
              "<table border=\"1\" class=\"dataframe\">\n",
              "  <thead>\n",
              "    <tr style=\"text-align: right;\">\n",
              "      <th></th>\n",
              "      <th>egg</th>\n",
              "      <th>milk</th>\n",
              "    </tr>\n",
              "  </thead>\n",
              "  <tbody>\n",
              "    <tr>\n",
              "      <th>Tue</th>\n",
              "      <td>3</td>\n",
              "      <td>2</td>\n",
              "    </tr>\n",
              "    <tr>\n",
              "      <th>Fri</th>\n",
              "      <td>8</td>\n",
              "      <td>8</td>\n",
              "    </tr>\n",
              "  </tbody>\n",
              "</table>\n",
              "</div>"
            ],
            "text/plain": [
              "     egg  milk\n",
              "Tue    3     2\n",
              "Fri    8     8"
            ]
          },
          "metadata": {
            "tags": []
          },
          "execution_count": 18
        }
      ]
    },
    {
      "cell_type": "code",
      "metadata": {
        "id": "WCJSU8f_InMX",
        "colab_type": "code",
        "colab": {},
        "outputId": "67ec591a-ea6a-43c8-85ac-bb9c7555db12"
      },
      "source": [
        "# we can also use .loc to add new rows. note the index of the new row needs to be one that doesn't exist in the current dataframe\n",
        "# otherwise an old row will be overwritten with new data\n",
        "df_sales2.loc['ham'] = [7, 6, 2, 2, 5]\n",
        "df_sales2"
      ],
      "execution_count": 0,
      "outputs": [
        {
          "output_type": "execute_result",
          "data": {
            "text/html": [
              "<div>\n",
              "<style scoped>\n",
              "    .dataframe tbody tr th:only-of-type {\n",
              "        vertical-align: middle;\n",
              "    }\n",
              "\n",
              "    .dataframe tbody tr th {\n",
              "        vertical-align: top;\n",
              "    }\n",
              "\n",
              "    .dataframe thead th {\n",
              "        text-align: right;\n",
              "    }\n",
              "</style>\n",
              "<table border=\"1\" class=\"dataframe\">\n",
              "  <thead>\n",
              "    <tr style=\"text-align: right;\">\n",
              "      <th></th>\n",
              "      <th>Mon</th>\n",
              "      <th>Tue</th>\n",
              "      <th>Wed</th>\n",
              "      <th>Thur</th>\n",
              "      <th>Fri</th>\n",
              "    </tr>\n",
              "  </thead>\n",
              "  <tbody>\n",
              "    <tr>\n",
              "      <th>egg</th>\n",
              "      <td>1</td>\n",
              "      <td>3</td>\n",
              "      <td>0</td>\n",
              "      <td>9</td>\n",
              "      <td>8</td>\n",
              "    </tr>\n",
              "    <tr>\n",
              "      <th>milk</th>\n",
              "      <td>1</td>\n",
              "      <td>2</td>\n",
              "      <td>8</td>\n",
              "      <td>2</td>\n",
              "      <td>8</td>\n",
              "    </tr>\n",
              "    <tr>\n",
              "      <th>ham</th>\n",
              "      <td>7</td>\n",
              "      <td>6</td>\n",
              "      <td>2</td>\n",
              "      <td>2</td>\n",
              "      <td>5</td>\n",
              "    </tr>\n",
              "  </tbody>\n",
              "</table>\n",
              "</div>"
            ],
            "text/plain": [
              "      Mon  Tue  Wed  Thur  Fri\n",
              "egg     1    3    0     9    8\n",
              "milk    1    2    8     2    8\n",
              "ham     7    6    2     2    5"
            ]
          },
          "metadata": {
            "tags": []
          },
          "execution_count": 19
        }
      ]
    },
    {
      "cell_type": "code",
      "metadata": {
        "id": "lDsq0rIkInMZ",
        "colab_type": "code",
        "colab": {},
        "outputId": "360cb167-dd67-4a14-901f-b128e4dbacf7"
      },
      "source": [
        "# how about adding new column? recall how to access a column: df_sales2['Mon'], without .loc\n",
        "# if we use the same syntax with a column label that doesn't exist in the dataframe, we can create a new column\n",
        "df_sales2['Sat'] = [20, 30, 19]\n",
        "df_sales2"
      ],
      "execution_count": 0,
      "outputs": [
        {
          "output_type": "execute_result",
          "data": {
            "text/html": [
              "<div>\n",
              "<style scoped>\n",
              "    .dataframe tbody tr th:only-of-type {\n",
              "        vertical-align: middle;\n",
              "    }\n",
              "\n",
              "    .dataframe tbody tr th {\n",
              "        vertical-align: top;\n",
              "    }\n",
              "\n",
              "    .dataframe thead th {\n",
              "        text-align: right;\n",
              "    }\n",
              "</style>\n",
              "<table border=\"1\" class=\"dataframe\">\n",
              "  <thead>\n",
              "    <tr style=\"text-align: right;\">\n",
              "      <th></th>\n",
              "      <th>Mon</th>\n",
              "      <th>Tue</th>\n",
              "      <th>Wed</th>\n",
              "      <th>Thur</th>\n",
              "      <th>Fri</th>\n",
              "      <th>Sat</th>\n",
              "    </tr>\n",
              "  </thead>\n",
              "  <tbody>\n",
              "    <tr>\n",
              "      <th>egg</th>\n",
              "      <td>1</td>\n",
              "      <td>3</td>\n",
              "      <td>0</td>\n",
              "      <td>9</td>\n",
              "      <td>8</td>\n",
              "      <td>20</td>\n",
              "    </tr>\n",
              "    <tr>\n",
              "      <th>milk</th>\n",
              "      <td>1</td>\n",
              "      <td>2</td>\n",
              "      <td>8</td>\n",
              "      <td>2</td>\n",
              "      <td>8</td>\n",
              "      <td>30</td>\n",
              "    </tr>\n",
              "    <tr>\n",
              "      <th>ham</th>\n",
              "      <td>7</td>\n",
              "      <td>6</td>\n",
              "      <td>2</td>\n",
              "      <td>2</td>\n",
              "      <td>5</td>\n",
              "      <td>19</td>\n",
              "    </tr>\n",
              "  </tbody>\n",
              "</table>\n",
              "</div>"
            ],
            "text/plain": [
              "      Mon  Tue  Wed  Thur  Fri  Sat\n",
              "egg     1    3    0     9    8   20\n",
              "milk    1    2    8     2    8   30\n",
              "ham     7    6    2     2    5   19"
            ]
          },
          "metadata": {
            "tags": []
          },
          "execution_count": 20
        }
      ]
    },
    {
      "cell_type": "code",
      "metadata": {
        "id": "dbMEoRVtInMc",
        "colab_type": "code",
        "colab": {}
      },
      "source": [
        "# now try to work adding row and column to df_sales1, such that df_sales1 will have sales data for egg, milk, ham from Mon to Sat\n",
        "# sales data should match between df_sales2 and df_sales1\n"
      ],
      "execution_count": 0,
      "outputs": []
    },
    {
      "cell_type": "code",
      "metadata": {
        "id": "02Dz_qtVInMe",
        "colab_type": "code",
        "colab": {},
        "outputId": "3bad6514-6188-454c-8602-a3725a749fa6"
      },
      "source": [
        "df_sales1['ham'] = [7, 6, 2, 2, 5]\n",
        "df_sales1.loc['Sat'] = [20, 30, 19]\n",
        "df_sales1"
      ],
      "execution_count": 0,
      "outputs": [
        {
          "output_type": "execute_result",
          "data": {
            "text/html": [
              "<div>\n",
              "<style scoped>\n",
              "    .dataframe tbody tr th:only-of-type {\n",
              "        vertical-align: middle;\n",
              "    }\n",
              "\n",
              "    .dataframe tbody tr th {\n",
              "        vertical-align: top;\n",
              "    }\n",
              "\n",
              "    .dataframe thead th {\n",
              "        text-align: right;\n",
              "    }\n",
              "</style>\n",
              "<table border=\"1\" class=\"dataframe\">\n",
              "  <thead>\n",
              "    <tr style=\"text-align: right;\">\n",
              "      <th></th>\n",
              "      <th>egg</th>\n",
              "      <th>milk</th>\n",
              "      <th>ham</th>\n",
              "    </tr>\n",
              "  </thead>\n",
              "  <tbody>\n",
              "    <tr>\n",
              "      <th>Mon</th>\n",
              "      <td>1</td>\n",
              "      <td>1</td>\n",
              "      <td>7</td>\n",
              "    </tr>\n",
              "    <tr>\n",
              "      <th>Tue</th>\n",
              "      <td>3</td>\n",
              "      <td>2</td>\n",
              "      <td>6</td>\n",
              "    </tr>\n",
              "    <tr>\n",
              "      <th>Wed</th>\n",
              "      <td>0</td>\n",
              "      <td>8</td>\n",
              "      <td>2</td>\n",
              "    </tr>\n",
              "    <tr>\n",
              "      <th>Thurs</th>\n",
              "      <td>9</td>\n",
              "      <td>2</td>\n",
              "      <td>2</td>\n",
              "    </tr>\n",
              "    <tr>\n",
              "      <th>Fri</th>\n",
              "      <td>8</td>\n",
              "      <td>8</td>\n",
              "      <td>5</td>\n",
              "    </tr>\n",
              "    <tr>\n",
              "      <th>Sat</th>\n",
              "      <td>20</td>\n",
              "      <td>30</td>\n",
              "      <td>19</td>\n",
              "    </tr>\n",
              "  </tbody>\n",
              "</table>\n",
              "</div>"
            ],
            "text/plain": [
              "       egg  milk  ham\n",
              "Mon      1     1    7\n",
              "Tue      3     2    6\n",
              "Wed      0     8    2\n",
              "Thurs    9     2    2\n",
              "Fri      8     8    5\n",
              "Sat     20    30   19"
            ]
          },
          "metadata": {
            "tags": []
          },
          "execution_count": 21
        }
      ]
    },
    {
      "cell_type": "markdown",
      "metadata": {
        "colab_type": "text",
        "id": "uo-QvnvgYTiB"
      },
      "source": [
        "case tracker over view:\n",
        "\n",
        "For each brain, which is assigned a case ID\n",
        "\n",
        "* Tissue processing stages\n",
        "    1. Surgery: surgery date, planned injection location, survived surgery, perfusion date, surgeon (injection strategy, etc)\n",
        "    2. Sectioning: section date, plane, thickness, tech\n",
        "    3. Staining: staining date, staining target, tech\n",
        "    4. Mounting: mounting date, tech\n",
        "    5. Scanning: scanning date, vsi path, actual injection location, quality, tech\n",
        "\n",
        "* Image processing stages\n",
        "    1. Import: osp path, tech\n",
        "    2. Registration\n",
        "    3. Threshold\n",
        "    4. Overlap\n",
        "\n",
        "* Big picture stuff\n",
        "    1. Scientific project\n",
        "    2. Quarterly report"
      ]
    },
    {
      "cell_type": "code",
      "metadata": {
        "id": "dwACtN3qInMg",
        "colab_type": "code",
        "colab": {}
      },
      "source": [
        "# say we want to create a DataFrame of case trackers. what do you think the DataFrame should looke like?\n",
        "# whats the row index? what are the columns?"
      ],
      "execution_count": 0,
      "outputs": []
    },
    {
      "cell_type": "code",
      "metadata": {
        "id": "6gAzMaqHInMi",
        "colab_type": "code",
        "colab": {},
        "outputId": "286a1572-2275-43e2-c8e8-da184d362a04"
      },
      "source": [
        "ids = ['SW190319-01', 'SW190320-01']\n",
        "simple_tracker = {\n",
        "    'surgeon': ['A', 'B'],\n",
        "    'survived_surgery': [True, False]\n",
        "}\n",
        "df_simple_tracker = pd.DataFrame(data=simple_tracker, index=ids)\n",
        "df_simple_tracker"
      ],
      "execution_count": 0,
      "outputs": [
        {
          "output_type": "execute_result",
          "data": {
            "text/html": [
              "<div>\n",
              "<style scoped>\n",
              "    .dataframe tbody tr th:only-of-type {\n",
              "        vertical-align: middle;\n",
              "    }\n",
              "\n",
              "    .dataframe tbody tr th {\n",
              "        vertical-align: top;\n",
              "    }\n",
              "\n",
              "    .dataframe thead th {\n",
              "        text-align: right;\n",
              "    }\n",
              "</style>\n",
              "<table border=\"1\" class=\"dataframe\">\n",
              "  <thead>\n",
              "    <tr style=\"text-align: right;\">\n",
              "      <th></th>\n",
              "      <th>surgeon</th>\n",
              "      <th>survived_surgery</th>\n",
              "    </tr>\n",
              "  </thead>\n",
              "  <tbody>\n",
              "    <tr>\n",
              "      <th>SW190319-01</th>\n",
              "      <td>A</td>\n",
              "      <td>True</td>\n",
              "    </tr>\n",
              "    <tr>\n",
              "      <th>SW190320-01</th>\n",
              "      <td>B</td>\n",
              "      <td>False</td>\n",
              "    </tr>\n",
              "  </tbody>\n",
              "</table>\n",
              "</div>"
            ],
            "text/plain": [
              "            surgeon  survived_surgery\n",
              "SW190319-01       A              True\n",
              "SW190320-01       B             False"
            ]
          },
          "metadata": {
            "tags": []
          },
          "execution_count": 23
        }
      ]
    },
    {
      "cell_type": "code",
      "metadata": {
        "colab_type": "code",
        "id": "lg8ONj6yffKX",
        "colab": {}
      },
      "source": [
        "from pandas.tseries.holiday import USFederalHolidayCalendar\n",
        "from pandas.tseries.offsets import CustomBusinessDay\n",
        "import numpy as np\n",
        "from numpy.random import choice, uniform\n",
        "import matplotlib.pyplot as plt\n",
        "\n",
        "\n",
        "def workdays_2020():\n",
        "      # don't come to work on weekends / holidays!\n",
        "      bday_offset = CustomBusinessDay(calendar=USFederalHolidayCalendar())\n",
        "      # a list of working days\n",
        "      work_days = pd.bdate_range(start='2020-01-01', end='2020-12-31', freq=bday_offset)\n",
        "      return work_days\n",
        "\n",
        "def generate_case_ids():\n",
        "      # gather all work days in 2020 (exclude weekends, holidays)\n",
        "      work_days = workdays_2020()\n",
        "      # on each work day, between [0, 10] surgeries are done, with 4 surgeries being the most common occurrence\n",
        "      # surgery numbers   0  1  2  3  4  5  6  7  8  9  10 \n",
        "      chances = np.array([2, 2, 3, 3, 4, 3, 3, 2, 2, 1, 1])\n",
        "      case_ids = []\n",
        "      ns = []\n",
        "      for work_day in work_days:\n",
        "          n = choice([0, 1, 2, 3, 4, 5, 6, 7, 8, 9, 10], p=chances / np.sum(chances))\n",
        "          ns.append(n)\n",
        "          if n > 0:\n",
        "              case_ids.extend(['SW{}-{}'.format(work_day.strftime('%Y%m%d'), str(i).zfill(2)) for i in range(1, n + 1)])\n",
        "      plt.hist(ns)    \n",
        "      plt.xlabel('number of surgeries in a day')\n",
        "      return case_ids   \n",
        "\n",
        "\n",
        "def generate_techs(n):\n",
        "    all_techs = ['Amy', 'Andrew', 'Emma', 'Mathew', 'Lucy', 'Edward', 'Danice', 'Zack', 'Betty', 'Rob']\n",
        "    return choice(all_techs, size=(n,), replace=True)"
      ],
      "execution_count": 0,
      "outputs": []
    },
    {
      "cell_type": "code",
      "metadata": {
        "colab_type": "code",
        "id": "gny3SjzcPy52",
        "colab": {}
      },
      "source": [
        "# let's simulate the bare minimum components for a dataframe of case trackers in 2020\n",
        "def generate_case_trackers():\n",
        "    # assuming surgeons work on non holiday weekdays, and between [0, 10] cases of surgeries\n",
        "    # are conducted on such days, lets generate case_ids, which is also the index of our dataframe\n",
        "    case_ids = generate_case_ids()\n",
        "    n_cases = len(case_ids)\n",
        "    # now we add some columns\n",
        "    case_tracker = {\n",
        "        # date of surgery: from case id. this series is of \"datetime\" type. more on this later \n",
        "        'surgery_date': pd.to_datetime(case_ids, format='%Y%m%d', exact=False),\n",
        "        # planned coordinates (x, y, z)\n",
        "        'planned_x': uniform(low=0, high=3, size=(n_cases,)),\n",
        "        'planned_y': uniform(low=-7, high=4, size=(n_cases,)),\n",
        "        'planned_z': uniform(low=-5, high=0, size=(n_cases,)),\n",
        "        # the surgeon for each case\n",
        "        'surgeon': generate_techs(n_cases),\n",
        "        # whether animal survived the surgery\n",
        "        'survived_surgery': choice([True, False], size=(n_cases,), p=[0.9, 0.1])\n",
        "    }\n",
        "    df_tracker = pd.DataFrame(data=case_tracker, index=case_ids)\n",
        "    return df_tracker"
      ],
      "execution_count": 0,
      "outputs": []
    },
    {
      "cell_type": "code",
      "metadata": {
        "id": "QkSjvotjInMr",
        "colab_type": "code",
        "colab": {},
        "outputId": "7b0f0799-ac12-46eb-ea9b-a773255d378a"
      },
      "source": [
        "df_case_tracker = generate_case_trackers()  \n",
        "df_case_tracker.head(n=5)"
      ],
      "execution_count": 0,
      "outputs": [
        {
          "output_type": "execute_result",
          "data": {
            "text/html": [
              "<div>\n",
              "<style scoped>\n",
              "    .dataframe tbody tr th:only-of-type {\n",
              "        vertical-align: middle;\n",
              "    }\n",
              "\n",
              "    .dataframe tbody tr th {\n",
              "        vertical-align: top;\n",
              "    }\n",
              "\n",
              "    .dataframe thead th {\n",
              "        text-align: right;\n",
              "    }\n",
              "</style>\n",
              "<table border=\"1\" class=\"dataframe\">\n",
              "  <thead>\n",
              "    <tr style=\"text-align: right;\">\n",
              "      <th></th>\n",
              "      <th>surgery_date</th>\n",
              "      <th>planned_x</th>\n",
              "      <th>planned_y</th>\n",
              "      <th>planned_z</th>\n",
              "      <th>surgeon</th>\n",
              "      <th>survived_surgery</th>\n",
              "    </tr>\n",
              "  </thead>\n",
              "  <tbody>\n",
              "    <tr>\n",
              "      <th>SW20200102-01</th>\n",
              "      <td>2020-01-02</td>\n",
              "      <td>1.819390</td>\n",
              "      <td>-5.943946</td>\n",
              "      <td>-4.445500</td>\n",
              "      <td>Edward</td>\n",
              "      <td>True</td>\n",
              "    </tr>\n",
              "    <tr>\n",
              "      <th>SW20200102-02</th>\n",
              "      <td>2020-01-02</td>\n",
              "      <td>1.256140</td>\n",
              "      <td>-6.407533</td>\n",
              "      <td>-3.955767</td>\n",
              "      <td>Rob</td>\n",
              "      <td>True</td>\n",
              "    </tr>\n",
              "    <tr>\n",
              "      <th>SW20200102-03</th>\n",
              "      <td>2020-01-02</td>\n",
              "      <td>2.976315</td>\n",
              "      <td>2.443791</td>\n",
              "      <td>-0.455714</td>\n",
              "      <td>Lucy</td>\n",
              "      <td>True</td>\n",
              "    </tr>\n",
              "    <tr>\n",
              "      <th>SW20200103-01</th>\n",
              "      <td>2020-01-03</td>\n",
              "      <td>0.805963</td>\n",
              "      <td>-2.592478</td>\n",
              "      <td>-2.124270</td>\n",
              "      <td>Lucy</td>\n",
              "      <td>True</td>\n",
              "    </tr>\n",
              "    <tr>\n",
              "      <th>SW20200103-02</th>\n",
              "      <td>2020-01-03</td>\n",
              "      <td>0.933075</td>\n",
              "      <td>1.057956</td>\n",
              "      <td>-4.527494</td>\n",
              "      <td>Zack</td>\n",
              "      <td>True</td>\n",
              "    </tr>\n",
              "  </tbody>\n",
              "</table>\n",
              "</div>"
            ],
            "text/plain": [
              "              surgery_date  planned_x  planned_y  planned_z surgeon  \\\n",
              "SW20200102-01   2020-01-02   1.819390  -5.943946  -4.445500  Edward   \n",
              "SW20200102-02   2020-01-02   1.256140  -6.407533  -3.955767     Rob   \n",
              "SW20200102-03   2020-01-02   2.976315   2.443791  -0.455714    Lucy   \n",
              "SW20200103-01   2020-01-03   0.805963  -2.592478  -2.124270    Lucy   \n",
              "SW20200103-02   2020-01-03   0.933075   1.057956  -4.527494    Zack   \n",
              "\n",
              "               survived_surgery  \n",
              "SW20200102-01              True  \n",
              "SW20200102-02              True  \n",
              "SW20200102-03              True  \n",
              "SW20200103-01              True  \n",
              "SW20200103-02              True  "
            ]
          },
          "metadata": {
            "tags": []
          },
          "execution_count": 26
        },
        {
          "output_type": "display_data",
          "data": {
            "image/png": "[encoded data removed]",
            "text/plain": [
              "<Figure size 432x288 with 1 Axes>"
            ]
          },
          "metadata": {
            "tags": [],
            "needs_background": "light"
          }
        }
      ]
    },
    {
      "cell_type": "code",
      "metadata": {
        "id": "rGg6C402InMu",
        "colab_type": "code",
        "colab": {},
        "outputId": "da5133ba-0214-49e6-e13a-a081834859f3"
      },
      "source": [
        "df_case_tracker.info()"
      ],
      "execution_count": 0,
      "outputs": [
        {
          "output_type": "stream",
          "text": [
            "<class 'pandas.core.frame.DataFrame'>\n",
            "Index: 1129 entries, SW20200102-01 to SW20201230-08\n",
            "Data columns (total 6 columns):\n",
            "surgery_date        1129 non-null datetime64[ns]\n",
            "planned_x           1129 non-null float64\n",
            "planned_y           1129 non-null float64\n",
            "planned_z           1129 non-null float64\n",
            "surgeon             1129 non-null object\n",
            "survived_surgery    1129 non-null bool\n",
            "dtypes: bool(1), datetime64[ns](1), float64(3), object(1)\n",
            "memory usage: 54.0+ KB\n"
          ],
          "name": "stdout"
        }
      ]
    },
    {
      "cell_type": "markdown",
      "metadata": {
        "id": "eEVboZTpInMw",
        "colab_type": "text"
      },
      "source": [
        "variable types in statistical analyses\n",
        "* nominal (categorical): unordered categorical variables, where a categorical variable is a variable that can take on one of a limited, and usually fixed, number of possible values. for nominal variables, the categories have no logical orderings. e.g. blood type, race, gender, zip code\n",
        "* ordinal (categorical): ordered categorical variables. e.g. movie ratings (\"great\", \"good\", \"meh\", \"sucks!\"), income levels (\"high income\", \"median income\", \"low income\"), military rank\n",
        "* interval (numerical): ordered. additionally, difference between two values are meaningful.  e.g. temperature, credit score\n",
        "* ratio (numerical): has all the properties of an interval variable, and also has a clear definition of zero. When the variable equals 0.0, there is none of that variable. e.g. heart rate, enzyme activity, weight"
      ]
    },
    {
      "cell_type": "code",
      "metadata": {
        "id": "qkpE5jIYInMw",
        "colab_type": "code",
        "colab": {}
      },
      "source": [
        "# what type of variable is \"planned_x\"?"
      ],
      "execution_count": 0,
      "outputs": []
    },
    {
      "cell_type": "code",
      "metadata": {
        "id": "t_VTB9C0InMy",
        "colab_type": "code",
        "colab": {}
      },
      "source": [
        "# what type of variable is \"surgeon\"? what about \"survived_surgery\"?"
      ],
      "execution_count": 0,
      "outputs": []
    },
    {
      "cell_type": "code",
      "metadata": {
        "id": "xMD5IFIJInM1",
        "colab_type": "code",
        "colab": {},
        "outputId": "25c79aab-f06c-4dee-c2ab-3f3d88e911e5"
      },
      "source": [
        "# lets change the surgeon column to unordered categorical variable\n",
        "df_case_tracker['surgeon'] = df_case_tracker['surgeon'].astype('category')\n",
        "df_case_tracker['surgeon'].dtype"
      ],
      "execution_count": 0,
      "outputs": [
        {
          "output_type": "execute_result",
          "data": {
            "text/plain": [
              "CategoricalDtype(categories=['Amy', 'Andrew', 'Betty', 'Danice', 'Edward', 'Emma', 'Lucy',\n",
              "                  'Mathew', 'Rob', 'Zack'],\n",
              "                 ordered=False)"
            ]
          },
          "metadata": {
            "tags": []
          },
          "execution_count": 28
        }
      ]
    },
    {
      "cell_type": "code",
      "metadata": {
        "id": "af8v3ApMInM4",
        "colab_type": "code",
        "colab": {},
        "outputId": "1bd59bb4-b525-45e1-f759-1ab90c5c6a25"
      },
      "source": [
        "df_case_tracker['surgeon'].value_counts(sort=False)"
      ],
      "execution_count": 0,
      "outputs": [
        {
          "output_type": "execute_result",
          "data": {
            "text/plain": [
              "Amy       107\n",
              "Andrew    110\n",
              "Betty     106\n",
              "Danice    116\n",
              "Edward    139\n",
              "Emma      111\n",
              "Lucy      100\n",
              "Mathew    115\n",
              "Rob       113\n",
              "Zack      112\n",
              "Name: surgeon, dtype: int64"
            ]
          },
          "metadata": {
            "tags": []
          },
          "execution_count": 29
        }
      ]
    },
    {
      "cell_type": "code",
      "metadata": {
        "id": "j3wDllEmInM6",
        "colab_type": "code",
        "colab": {},
        "outputId": "79a65480-95cf-4877-b063-93e4dc61ff26"
      },
      "source": [
        "_ = df_case_tracker['surgeon'].value_counts(sort=False).plot(kind='bar')"
      ],
      "execution_count": 0,
      "outputs": [
        {
          "output_type": "display_data",
          "data": {
            "image/png": "[encoded data removed]",
            "text/plain": [
              "<Figure size 432x288 with 1 Axes>"
            ]
          },
          "metadata": {
            "tags": [],
            "needs_background": "light"
          }
        }
      ]
    },
    {
      "cell_type": "code",
      "metadata": {
        "id": "NMG_4FrgInM8",
        "colab_type": "code",
        "colab": {}
      },
      "source": [
        "# is \"surgery_date\" nominal, ordinal, interval or ratio?"
      ],
      "execution_count": 0,
      "outputs": []
    },
    {
      "cell_type": "code",
      "metadata": {
        "id": "a5Miogg1InM-",
        "colab_type": "code",
        "colab": {},
        "outputId": "5bd6a02f-e600-4bee-e83f-fc230b652efd"
      },
      "source": [
        "# series or index with datetime dtype supports many powerful pandas time series functionalities\n",
        "# for example, we can easily compare the datetime entries to a certain time of interest\n",
        "# are the surgery dates later than 2020 jan 1st?\n",
        "later_than_jan_1st = df_case_tracker['surgery_date'] > '2020-Jan-1'\n",
        "later_than_jan_1st.head()"
      ],
      "execution_count": 0,
      "outputs": [
        {
          "output_type": "execute_result",
          "data": {
            "text/plain": [
              "SW20200102-01    True\n",
              "SW20200102-02    True\n",
              "SW20200102-03    True\n",
              "SW20200103-01    True\n",
              "SW20200103-02    True\n",
              "Name: surgery_date, dtype: bool"
            ]
          },
          "metadata": {
            "tags": []
          },
          "execution_count": 32
        }
      ]
    },
    {
      "cell_type": "code",
      "metadata": {
        "id": "M0ZBhfSmInNB",
        "colab_type": "code",
        "colab": {},
        "outputId": "2bc1b467-bcf5-4362-b477-12442adfb46c"
      },
      "source": [
        "# are the surgery dates earlier than 2019 dec 31 st?\n",
        "# note than various format of specifying dates are recognized\n",
        "earlier_than_2020 = df_case_tracker['surgery_date'] < '2019-12-23'\n",
        "earlier_than_2020.head()"
      ],
      "execution_count": 0,
      "outputs": [
        {
          "output_type": "execute_result",
          "data": {
            "text/plain": [
              "SW20200102-01    False\n",
              "SW20200102-02    False\n",
              "SW20200102-03    False\n",
              "SW20200103-01    False\n",
              "SW20200103-02    False\n",
              "Name: surgery_date, dtype: bool"
            ]
          },
          "metadata": {
            "tags": []
          },
          "execution_count": 33
        }
      ]
    },
    {
      "cell_type": "code",
      "metadata": {
        "id": "xVFGiMjEInND",
        "colab_type": "code",
        "colab": {},
        "outputId": "8edd849f-bb9c-47bb-a700-1ea3efc12e9c"
      },
      "source": [
        "# are the surgery dates later than 2020 jan 1st but earlier than 2020 jan 6th?\n",
        "between_jan_1st_and_6th = (df_case_tracker['surgery_date'] > '2020-Jan-1') & (df_case_tracker['surgery_date'] < '2020-1-6')\n",
        "between_jan_1st_and_6th.head(n=10)"
      ],
      "execution_count": 0,
      "outputs": [
        {
          "output_type": "execute_result",
          "data": {
            "text/plain": [
              "SW20200102-01    True\n",
              "SW20200102-02    True\n",
              "SW20200102-03    True\n",
              "SW20200103-01    True\n",
              "SW20200103-02    True\n",
              "SW20200103-03    True\n",
              "SW20200103-04    True\n",
              "SW20200103-05    True\n",
              "SW20200103-06    True\n",
              "SW20200103-07    True\n",
              "Name: surgery_date, dtype: bool"
            ]
          },
          "metadata": {
            "tags": []
          },
          "execution_count": 34
        }
      ]
    },
    {
      "cell_type": "code",
      "metadata": {
        "id": "oeRH5fcdInNH",
        "colab_type": "code",
        "colab": {},
        "outputId": "dc0c03e5-413b-4b99-dfb6-137a5a97c866"
      },
      "source": [
        "# this allows us to filter for surgeries performed during certain time periods\n",
        "# for example, let's select all cases for which surgeries were done between Feb 3rd and Feb 6th\n",
        "# we will again use the .loc accessor\n",
        "dates_wanted = (df_case_tracker['surgery_date'] >= '2020-Feb-3') & (df_case_tracker['surgery_date'] <= '2020-Feb-6')\n",
        "df_feb36 = df_case_tracker.loc[dates_wanted]\n",
        "df_feb36"
      ],
      "execution_count": 0,
      "outputs": [
        {
          "output_type": "execute_result",
          "data": {
            "text/html": [
              "<div>\n",
              "<style scoped>\n",
              "    .dataframe tbody tr th:only-of-type {\n",
              "        vertical-align: middle;\n",
              "    }\n",
              "\n",
              "    .dataframe tbody tr th {\n",
              "        vertical-align: top;\n",
              "    }\n",
              "\n",
              "    .dataframe thead th {\n",
              "        text-align: right;\n",
              "    }\n",
              "</style>\n",
              "<table border=\"1\" class=\"dataframe\">\n",
              "  <thead>\n",
              "    <tr style=\"text-align: right;\">\n",
              "      <th></th>\n",
              "      <th>surgery_date</th>\n",
              "      <th>planned_x</th>\n",
              "      <th>planned_y</th>\n",
              "      <th>planned_z</th>\n",
              "      <th>surgeon</th>\n",
              "      <th>survived_surgery</th>\n",
              "    </tr>\n",
              "  </thead>\n",
              "  <tbody>\n",
              "    <tr>\n",
              "      <th>SW20200203-01</th>\n",
              "      <td>2020-02-03</td>\n",
              "      <td>0.874084</td>\n",
              "      <td>2.190402</td>\n",
              "      <td>-4.263592</td>\n",
              "      <td>Edward</td>\n",
              "      <td>True</td>\n",
              "    </tr>\n",
              "    <tr>\n",
              "      <th>SW20200203-02</th>\n",
              "      <td>2020-02-03</td>\n",
              "      <td>0.909521</td>\n",
              "      <td>-5.745522</td>\n",
              "      <td>-1.929969</td>\n",
              "      <td>Zack</td>\n",
              "      <td>True</td>\n",
              "    </tr>\n",
              "    <tr>\n",
              "      <th>SW20200203-03</th>\n",
              "      <td>2020-02-03</td>\n",
              "      <td>2.920216</td>\n",
              "      <td>2.199919</td>\n",
              "      <td>-0.115356</td>\n",
              "      <td>Mathew</td>\n",
              "      <td>True</td>\n",
              "    </tr>\n",
              "    <tr>\n",
              "      <th>SW20200203-04</th>\n",
              "      <td>2020-02-03</td>\n",
              "      <td>2.141480</td>\n",
              "      <td>-3.086824</td>\n",
              "      <td>-0.950735</td>\n",
              "      <td>Edward</td>\n",
              "      <td>True</td>\n",
              "    </tr>\n",
              "    <tr>\n",
              "      <th>SW20200204-01</th>\n",
              "      <td>2020-02-04</td>\n",
              "      <td>1.184731</td>\n",
              "      <td>3.791421</td>\n",
              "      <td>-0.555964</td>\n",
              "      <td>Zack</td>\n",
              "      <td>True</td>\n",
              "    </tr>\n",
              "    <tr>\n",
              "      <th>SW20200204-02</th>\n",
              "      <td>2020-02-04</td>\n",
              "      <td>2.150382</td>\n",
              "      <td>-1.657152</td>\n",
              "      <td>-2.001723</td>\n",
              "      <td>Andrew</td>\n",
              "      <td>True</td>\n",
              "    </tr>\n",
              "    <tr>\n",
              "      <th>SW20200204-03</th>\n",
              "      <td>2020-02-04</td>\n",
              "      <td>1.790928</td>\n",
              "      <td>3.450852</td>\n",
              "      <td>-3.278435</td>\n",
              "      <td>Amy</td>\n",
              "      <td>True</td>\n",
              "    </tr>\n",
              "    <tr>\n",
              "      <th>SW20200204-04</th>\n",
              "      <td>2020-02-04</td>\n",
              "      <td>2.100983</td>\n",
              "      <td>0.340610</td>\n",
              "      <td>-1.529659</td>\n",
              "      <td>Danice</td>\n",
              "      <td>True</td>\n",
              "    </tr>\n",
              "    <tr>\n",
              "      <th>SW20200204-05</th>\n",
              "      <td>2020-02-04</td>\n",
              "      <td>2.334241</td>\n",
              "      <td>2.443645</td>\n",
              "      <td>-0.602661</td>\n",
              "      <td>Rob</td>\n",
              "      <td>False</td>\n",
              "    </tr>\n",
              "    <tr>\n",
              "      <th>SW20200204-06</th>\n",
              "      <td>2020-02-04</td>\n",
              "      <td>0.785987</td>\n",
              "      <td>0.009670</td>\n",
              "      <td>-1.674724</td>\n",
              "      <td>Danice</td>\n",
              "      <td>True</td>\n",
              "    </tr>\n",
              "    <tr>\n",
              "      <th>SW20200204-07</th>\n",
              "      <td>2020-02-04</td>\n",
              "      <td>0.791309</td>\n",
              "      <td>2.769459</td>\n",
              "      <td>-2.253707</td>\n",
              "      <td>Edward</td>\n",
              "      <td>True</td>\n",
              "    </tr>\n",
              "    <tr>\n",
              "      <th>SW20200204-08</th>\n",
              "      <td>2020-02-04</td>\n",
              "      <td>0.726938</td>\n",
              "      <td>-6.751961</td>\n",
              "      <td>-4.000440</td>\n",
              "      <td>Zack</td>\n",
              "      <td>True</td>\n",
              "    </tr>\n",
              "    <tr>\n",
              "      <th>SW20200205-01</th>\n",
              "      <td>2020-02-05</td>\n",
              "      <td>1.845679</td>\n",
              "      <td>-3.108726</td>\n",
              "      <td>-0.949462</td>\n",
              "      <td>Mathew</td>\n",
              "      <td>True</td>\n",
              "    </tr>\n",
              "    <tr>\n",
              "      <th>SW20200205-02</th>\n",
              "      <td>2020-02-05</td>\n",
              "      <td>0.959702</td>\n",
              "      <td>3.442146</td>\n",
              "      <td>-3.837951</td>\n",
              "      <td>Danice</td>\n",
              "      <td>True</td>\n",
              "    </tr>\n",
              "    <tr>\n",
              "      <th>SW20200205-03</th>\n",
              "      <td>2020-02-05</td>\n",
              "      <td>2.615018</td>\n",
              "      <td>-1.876901</td>\n",
              "      <td>-1.465886</td>\n",
              "      <td>Edward</td>\n",
              "      <td>True</td>\n",
              "    </tr>\n",
              "    <tr>\n",
              "      <th>SW20200205-04</th>\n",
              "      <td>2020-02-05</td>\n",
              "      <td>1.933616</td>\n",
              "      <td>-4.379212</td>\n",
              "      <td>-2.140532</td>\n",
              "      <td>Edward</td>\n",
              "      <td>True</td>\n",
              "    </tr>\n",
              "    <tr>\n",
              "      <th>SW20200205-05</th>\n",
              "      <td>2020-02-05</td>\n",
              "      <td>0.449799</td>\n",
              "      <td>2.345330</td>\n",
              "      <td>-1.942141</td>\n",
              "      <td>Amy</td>\n",
              "      <td>True</td>\n",
              "    </tr>\n",
              "    <tr>\n",
              "      <th>SW20200205-06</th>\n",
              "      <td>2020-02-05</td>\n",
              "      <td>1.653616</td>\n",
              "      <td>-2.776048</td>\n",
              "      <td>-3.339783</td>\n",
              "      <td>Lucy</td>\n",
              "      <td>True</td>\n",
              "    </tr>\n",
              "    <tr>\n",
              "      <th>SW20200205-07</th>\n",
              "      <td>2020-02-05</td>\n",
              "      <td>0.630811</td>\n",
              "      <td>-5.642351</td>\n",
              "      <td>-0.595647</td>\n",
              "      <td>Rob</td>\n",
              "      <td>True</td>\n",
              "    </tr>\n",
              "  </tbody>\n",
              "</table>\n",
              "</div>"
            ],
            "text/plain": [
              "              surgery_date  planned_x  planned_y  planned_z surgeon  \\\n",
              "SW20200203-01   2020-02-03   0.874084   2.190402  -4.263592  Edward   \n",
              "SW20200203-02   2020-02-03   0.909521  -5.745522  -1.929969    Zack   \n",
              "SW20200203-03   2020-02-03   2.920216   2.199919  -0.115356  Mathew   \n",
              "SW20200203-04   2020-02-03   2.141480  -3.086824  -0.950735  Edward   \n",
              "SW20200204-01   2020-02-04   1.184731   3.791421  -0.555964    Zack   \n",
              "SW20200204-02   2020-02-04   2.150382  -1.657152  -2.001723  Andrew   \n",
              "SW20200204-03   2020-02-04   1.790928   3.450852  -3.278435     Amy   \n",
              "SW20200204-04   2020-02-04   2.100983   0.340610  -1.529659  Danice   \n",
              "SW20200204-05   2020-02-04   2.334241   2.443645  -0.602661     Rob   \n",
              "SW20200204-06   2020-02-04   0.785987   0.009670  -1.674724  Danice   \n",
              "SW20200204-07   2020-02-04   0.791309   2.769459  -2.253707  Edward   \n",
              "SW20200204-08   2020-02-04   0.726938  -6.751961  -4.000440    Zack   \n",
              "SW20200205-01   2020-02-05   1.845679  -3.108726  -0.949462  Mathew   \n",
              "SW20200205-02   2020-02-05   0.959702   3.442146  -3.837951  Danice   \n",
              "SW20200205-03   2020-02-05   2.615018  -1.876901  -1.465886  Edward   \n",
              "SW20200205-04   2020-02-05   1.933616  -4.379212  -2.140532  Edward   \n",
              "SW20200205-05   2020-02-05   0.449799   2.345330  -1.942141     Amy   \n",
              "SW20200205-06   2020-02-05   1.653616  -2.776048  -3.339783    Lucy   \n",
              "SW20200205-07   2020-02-05   0.630811  -5.642351  -0.595647     Rob   \n",
              "\n",
              "               survived_surgery  \n",
              "SW20200203-01              True  \n",
              "SW20200203-02              True  \n",
              "SW20200203-03              True  \n",
              "SW20200203-04              True  \n",
              "SW20200204-01              True  \n",
              "SW20200204-02              True  \n",
              "SW20200204-03              True  \n",
              "SW20200204-04              True  \n",
              "SW20200204-05             False  \n",
              "SW20200204-06              True  \n",
              "SW20200204-07              True  \n",
              "SW20200204-08              True  \n",
              "SW20200205-01              True  \n",
              "SW20200205-02              True  \n",
              "SW20200205-03              True  \n",
              "SW20200205-04              True  \n",
              "SW20200205-05              True  \n",
              "SW20200205-06              True  \n",
              "SW20200205-07              True  "
            ]
          },
          "metadata": {
            "tags": []
          },
          "execution_count": 35
        }
      ]
    },
    {
      "cell_type": "code",
      "metadata": {
        "id": "ng5HfihVInNK",
        "colab_type": "code",
        "colab": {},
        "outputId": "2d4afad7-d35f-4a8d-c730-f7b8dfe2e414"
      },
      "source": [
        "# this is a lot more advanced, as a show case of how we may potentially identify period of time where technical failures seem to occur more frequently than usual\n",
        "# if we also have records of equipment, reagent information for some time periods, it's possible to systemically find conditions detrimental for experiments\n",
        "# resample: divides data into specified time intervals, here each interval is a week, with each week starting on monday\n",
        "# the mean surgery survival is calculated for each week, based on the weekly intervals\n",
        "# the survival percent is then sorted, and 5 weeks with lowest surgery survival rate through 2020 is shown\n",
        "df_case_tracker.resample('W-Mon', on='surgery_date', label='right')['survived_surgery'].mean().sort_values().head(n=5)"
      ],
      "execution_count": 0,
      "outputs": [
        {
          "output_type": "execute_result",
          "data": {
            "text/plain": [
              "surgery_date\n",
              "2021-01-04    0.750000\n",
              "2020-02-17    0.777778\n",
              "2020-11-23    0.782609\n",
              "2020-09-21    0.785714\n",
              "2020-11-30    0.789474\n",
              "Name: survived_surgery, dtype: float64"
            ]
          },
          "metadata": {
            "tags": []
          },
          "execution_count": 36
        }
      ]
    },
    {
      "cell_type": "code",
      "metadata": {
        "id": "OJghTmD8InNM",
        "colab_type": "code",
        "colab": {},
        "outputId": "486daea2-b18d-4d85-b81b-b36d67dfb81f"
      },
      "source": [
        "# annual surgery survival rate (it's quite close to the value we used to simulate the case tracker data)\n",
        "df_case_tracker['survived_surgery'].mean()"
      ],
      "execution_count": 0,
      "outputs": [
        {
          "output_type": "execute_result",
          "data": {
            "text/plain": [
              "0.8937112488928255"
            ]
          },
          "metadata": {
            "tags": []
          },
          "execution_count": 37
        }
      ]
    },
    {
      "cell_type": "code",
      "metadata": {
        "id": "v7NibEJRInNP",
        "colab_type": "code",
        "colab": {}
      },
      "source": [
        "# what is a normal range of survival rate for a given week? because we have assigned a known individual survival rate here, \n",
        "# we can actually compute 95% confidence interval of weekly survival rates. but this is beyond the scope for now."
      ],
      "execution_count": 0,
      "outputs": []
    },
    {
      "cell_type": "code",
      "metadata": {
        "id": "zoHYm-MRInNR",
        "colab_type": "code",
        "colab": {},
        "outputId": "b36a422c-494f-46a2-e2d6-ec17aab2cee8"
      },
      "source": [
        "# now lets move on to add perfusion dates\n",
        "# lets say on average, perfusion happens 2 days after surgery\n",
        "from numpy.random import exponential\n",
        "days_till_perfuse = exponential(scale=2, size=(df_case_tracker.shape[0],))\n",
        "print('average days till perfusion =', np.mean(days_till_perfuse))\n",
        "days_till_perfuse = pd.to_timedelta(days_till_perfuse, unit='days')\n",
        "# add new column \"perfusion_date\", where perfusion_date = surgery_date + days_till_perfuse\n",
        "df_case_tracker['perfusion_date'] = df_case_tracker['surgery_date'] + days_till_perfuse\n",
        "df_case_tracker['perfusion_date'] = df_case_tracker['perfusion_date'].dt.round('D')\n",
        "df_case_tracker.head()"
      ],
      "execution_count": 0,
      "outputs": [
        {
          "output_type": "stream",
          "text": [
            "average days till perfusion = 1.9718809795963428\n"
          ],
          "name": "stdout"
        },
        {
          "output_type": "execute_result",
          "data": {
            "text/html": [
              "<div>\n",
              "<style scoped>\n",
              "    .dataframe tbody tr th:only-of-type {\n",
              "        vertical-align: middle;\n",
              "    }\n",
              "\n",
              "    .dataframe tbody tr th {\n",
              "        vertical-align: top;\n",
              "    }\n",
              "\n",
              "    .dataframe thead th {\n",
              "        text-align: right;\n",
              "    }\n",
              "</style>\n",
              "<table border=\"1\" class=\"dataframe\">\n",
              "  <thead>\n",
              "    <tr style=\"text-align: right;\">\n",
              "      <th></th>\n",
              "      <th>surgery_date</th>\n",
              "      <th>planned_x</th>\n",
              "      <th>planned_y</th>\n",
              "      <th>planned_z</th>\n",
              "      <th>surgeon</th>\n",
              "      <th>survived_surgery</th>\n",
              "      <th>perfusion_date</th>\n",
              "    </tr>\n",
              "  </thead>\n",
              "  <tbody>\n",
              "    <tr>\n",
              "      <th>SW20200102-01</th>\n",
              "      <td>2020-01-02</td>\n",
              "      <td>1.819390</td>\n",
              "      <td>-5.943946</td>\n",
              "      <td>-4.445500</td>\n",
              "      <td>Edward</td>\n",
              "      <td>True</td>\n",
              "      <td>2020-01-03</td>\n",
              "    </tr>\n",
              "    <tr>\n",
              "      <th>SW20200102-02</th>\n",
              "      <td>2020-01-02</td>\n",
              "      <td>1.256140</td>\n",
              "      <td>-6.407533</td>\n",
              "      <td>-3.955767</td>\n",
              "      <td>Rob</td>\n",
              "      <td>True</td>\n",
              "      <td>2020-01-03</td>\n",
              "    </tr>\n",
              "    <tr>\n",
              "      <th>SW20200102-03</th>\n",
              "      <td>2020-01-02</td>\n",
              "      <td>2.976315</td>\n",
              "      <td>2.443791</td>\n",
              "      <td>-0.455714</td>\n",
              "      <td>Lucy</td>\n",
              "      <td>True</td>\n",
              "      <td>2020-01-02</td>\n",
              "    </tr>\n",
              "    <tr>\n",
              "      <th>SW20200103-01</th>\n",
              "      <td>2020-01-03</td>\n",
              "      <td>0.805963</td>\n",
              "      <td>-2.592478</td>\n",
              "      <td>-2.124270</td>\n",
              "      <td>Lucy</td>\n",
              "      <td>True</td>\n",
              "      <td>2020-01-04</td>\n",
              "    </tr>\n",
              "    <tr>\n",
              "      <th>SW20200103-02</th>\n",
              "      <td>2020-01-03</td>\n",
              "      <td>0.933075</td>\n",
              "      <td>1.057956</td>\n",
              "      <td>-4.527494</td>\n",
              "      <td>Zack</td>\n",
              "      <td>True</td>\n",
              "      <td>2020-01-05</td>\n",
              "    </tr>\n",
              "  </tbody>\n",
              "</table>\n",
              "</div>"
            ],
            "text/plain": [
              "              surgery_date  planned_x  planned_y  planned_z surgeon  \\\n",
              "SW20200102-01   2020-01-02   1.819390  -5.943946  -4.445500  Edward   \n",
              "SW20200102-02   2020-01-02   1.256140  -6.407533  -3.955767     Rob   \n",
              "SW20200102-03   2020-01-02   2.976315   2.443791  -0.455714    Lucy   \n",
              "SW20200103-01   2020-01-03   0.805963  -2.592478  -2.124270    Lucy   \n",
              "SW20200103-02   2020-01-03   0.933075   1.057956  -4.527494    Zack   \n",
              "\n",
              "               survived_surgery perfusion_date  \n",
              "SW20200102-01              True     2020-01-03  \n",
              "SW20200102-02              True     2020-01-03  \n",
              "SW20200102-03              True     2020-01-02  \n",
              "SW20200103-01              True     2020-01-04  \n",
              "SW20200103-02              True     2020-01-05  "
            ]
          },
          "metadata": {
            "tags": []
          },
          "execution_count": 40
        }
      ]
    },
    {
      "cell_type": "code",
      "metadata": {
        "id": "wyT1_1QZInNS",
        "colab_type": "code",
        "colab": {},
        "outputId": "a9b4ab40-c95b-456f-cddd-a4c612e426c6"
      },
      "source": [
        "# now section, stain, mount and scanning dates will be added similarly\n",
        "# it's assumed that sectioning happens on average 2 days after perfusion, staining 2 days after sectioning, \n",
        "# mounting 5 days after staining, scanning 4 days after mounting\n",
        "days_till_step = pd.Series([2, 2, 5, 4], index=['sectioning', 'staining', 'mounting', 'scanning'])\n",
        "for i in range(len(days_till_step)):\n",
        "    days = exponential(scale=days_till_step[i], size=(df_case_tracker.shape[0],))\n",
        "    days = pd.to_timedelta(days, unit='days')\n",
        "    new_column_name = '{}_date'.format(days_till_step.index[i])\n",
        "    old_column_name = 'perfusion_date' if i == 0 else '{}_date'.format(days_till_step.index[i - 1])\n",
        "    df_case_tracker[new_column_name] = df_case_tracker[old_column_name] + days\n",
        "    df_case_tracker[new_column_name] = df_case_tracker[new_column_name].dt.round('D')\n",
        "df_case_tracker.head()"
      ],
      "execution_count": 0,
      "outputs": [
        {
          "output_type": "execute_result",
          "data": {
            "text/html": [
              "<div>\n",
              "<style scoped>\n",
              "    .dataframe tbody tr th:only-of-type {\n",
              "        vertical-align: middle;\n",
              "    }\n",
              "\n",
              "    .dataframe tbody tr th {\n",
              "        vertical-align: top;\n",
              "    }\n",
              "\n",
              "    .dataframe thead th {\n",
              "        text-align: right;\n",
              "    }\n",
              "</style>\n",
              "<table border=\"1\" class=\"dataframe\">\n",
              "  <thead>\n",
              "    <tr style=\"text-align: right;\">\n",
              "      <th></th>\n",
              "      <th>surgery_date</th>\n",
              "      <th>planned_x</th>\n",
              "      <th>planned_y</th>\n",
              "      <th>planned_z</th>\n",
              "      <th>surgeon</th>\n",
              "      <th>survived_surgery</th>\n",
              "      <th>perfusion_date</th>\n",
              "      <th>sectioning_date</th>\n",
              "      <th>staining_date</th>\n",
              "      <th>mounting_date</th>\n",
              "      <th>scanning_date</th>\n",
              "    </tr>\n",
              "  </thead>\n",
              "  <tbody>\n",
              "    <tr>\n",
              "      <th>SW20200102-01</th>\n",
              "      <td>2020-01-02</td>\n",
              "      <td>1.819390</td>\n",
              "      <td>-5.943946</td>\n",
              "      <td>-4.445500</td>\n",
              "      <td>Edward</td>\n",
              "      <td>True</td>\n",
              "      <td>2020-01-03</td>\n",
              "      <td>2020-01-04</td>\n",
              "      <td>2020-01-06</td>\n",
              "      <td>2020-01-13</td>\n",
              "      <td>2020-01-14</td>\n",
              "    </tr>\n",
              "    <tr>\n",
              "      <th>SW20200102-02</th>\n",
              "      <td>2020-01-02</td>\n",
              "      <td>1.256140</td>\n",
              "      <td>-6.407533</td>\n",
              "      <td>-3.955767</td>\n",
              "      <td>Rob</td>\n",
              "      <td>True</td>\n",
              "      <td>2020-01-03</td>\n",
              "      <td>2020-01-05</td>\n",
              "      <td>2020-01-05</td>\n",
              "      <td>2020-01-06</td>\n",
              "      <td>2020-01-10</td>\n",
              "    </tr>\n",
              "    <tr>\n",
              "      <th>SW20200102-03</th>\n",
              "      <td>2020-01-02</td>\n",
              "      <td>2.976315</td>\n",
              "      <td>2.443791</td>\n",
              "      <td>-0.455714</td>\n",
              "      <td>Lucy</td>\n",
              "      <td>True</td>\n",
              "      <td>2020-01-02</td>\n",
              "      <td>2020-01-03</td>\n",
              "      <td>2020-01-04</td>\n",
              "      <td>2020-01-13</td>\n",
              "      <td>2020-01-14</td>\n",
              "    </tr>\n",
              "    <tr>\n",
              "      <th>SW20200103-01</th>\n",
              "      <td>2020-01-03</td>\n",
              "      <td>0.805963</td>\n",
              "      <td>-2.592478</td>\n",
              "      <td>-2.124270</td>\n",
              "      <td>Lucy</td>\n",
              "      <td>True</td>\n",
              "      <td>2020-01-04</td>\n",
              "      <td>2020-01-04</td>\n",
              "      <td>2020-01-05</td>\n",
              "      <td>2020-01-05</td>\n",
              "      <td>2020-01-16</td>\n",
              "    </tr>\n",
              "    <tr>\n",
              "      <th>SW20200103-02</th>\n",
              "      <td>2020-01-03</td>\n",
              "      <td>0.933075</td>\n",
              "      <td>1.057956</td>\n",
              "      <td>-4.527494</td>\n",
              "      <td>Zack</td>\n",
              "      <td>True</td>\n",
              "      <td>2020-01-05</td>\n",
              "      <td>2020-01-05</td>\n",
              "      <td>2020-01-07</td>\n",
              "      <td>2020-01-09</td>\n",
              "      <td>2020-01-10</td>\n",
              "    </tr>\n",
              "  </tbody>\n",
              "</table>\n",
              "</div>"
            ],
            "text/plain": [
              "              surgery_date  planned_x  planned_y  planned_z surgeon  \\\n",
              "SW20200102-01   2020-01-02   1.819390  -5.943946  -4.445500  Edward   \n",
              "SW20200102-02   2020-01-02   1.256140  -6.407533  -3.955767     Rob   \n",
              "SW20200102-03   2020-01-02   2.976315   2.443791  -0.455714    Lucy   \n",
              "SW20200103-01   2020-01-03   0.805963  -2.592478  -2.124270    Lucy   \n",
              "SW20200103-02   2020-01-03   0.933075   1.057956  -4.527494    Zack   \n",
              "\n",
              "               survived_surgery perfusion_date sectioning_date staining_date  \\\n",
              "SW20200102-01              True     2020-01-03      2020-01-04    2020-01-06   \n",
              "SW20200102-02              True     2020-01-03      2020-01-05    2020-01-05   \n",
              "SW20200102-03              True     2020-01-02      2020-01-03    2020-01-04   \n",
              "SW20200103-01              True     2020-01-04      2020-01-04    2020-01-05   \n",
              "SW20200103-02              True     2020-01-05      2020-01-05    2020-01-07   \n",
              "\n",
              "              mounting_date scanning_date  \n",
              "SW20200102-01    2020-01-13    2020-01-14  \n",
              "SW20200102-02    2020-01-06    2020-01-10  \n",
              "SW20200102-03    2020-01-13    2020-01-14  \n",
              "SW20200103-01    2020-01-05    2020-01-16  \n",
              "SW20200103-02    2020-01-09    2020-01-10  "
            ]
          },
          "metadata": {
            "tags": []
          },
          "execution_count": 41
        }
      ]
    },
    {
      "cell_type": "code",
      "metadata": {
        "id": "R3kDU72gInNU",
        "colab_type": "code",
        "colab": {},
        "outputId": "e9ae9ff5-72fb-4839-8e55-a2bf8df2d576"
      },
      "source": [
        "# how can you find out if there are any cases that haven't finished scanning by end of year?\n",
        "# select these cases if they exist\n",
        "# hint1: compare scanning_date to 2021-Jan-1st\n",
        "# hint2: use .loc accessor\n",
        "# hint3: take a look at the last rows and their scanning dates. do you know if there are any cases that haven't finished scanning by end of year now?\n",
        "df_case_tracker.tail()"
      ],
      "execution_count": 0,
      "outputs": [
        {
          "output_type": "execute_result",
          "data": {
            "text/html": [
              "<div>\n",
              "<style scoped>\n",
              "    .dataframe tbody tr th:only-of-type {\n",
              "        vertical-align: middle;\n",
              "    }\n",
              "\n",
              "    .dataframe tbody tr th {\n",
              "        vertical-align: top;\n",
              "    }\n",
              "\n",
              "    .dataframe thead th {\n",
              "        text-align: right;\n",
              "    }\n",
              "</style>\n",
              "<table border=\"1\" class=\"dataframe\">\n",
              "  <thead>\n",
              "    <tr style=\"text-align: right;\">\n",
              "      <th></th>\n",
              "      <th>surgery_date</th>\n",
              "      <th>planned_x</th>\n",
              "      <th>planned_y</th>\n",
              "      <th>planned_z</th>\n",
              "      <th>surgeon</th>\n",
              "      <th>survived_surgery</th>\n",
              "      <th>perfusion_date</th>\n",
              "      <th>sectioning_date</th>\n",
              "      <th>staining_date</th>\n",
              "      <th>mounting_date</th>\n",
              "      <th>scanning_date</th>\n",
              "    </tr>\n",
              "  </thead>\n",
              "  <tbody>\n",
              "    <tr>\n",
              "      <th>SW20201230-04</th>\n",
              "      <td>2020-12-30</td>\n",
              "      <td>2.903028</td>\n",
              "      <td>-6.192594</td>\n",
              "      <td>-4.210131</td>\n",
              "      <td>Mathew</td>\n",
              "      <td>True</td>\n",
              "      <td>2020-12-31</td>\n",
              "      <td>2021-01-01</td>\n",
              "      <td>2021-01-02</td>\n",
              "      <td>2021-01-10</td>\n",
              "      <td>2021-01-11</td>\n",
              "    </tr>\n",
              "    <tr>\n",
              "      <th>SW20201230-05</th>\n",
              "      <td>2020-12-30</td>\n",
              "      <td>0.183104</td>\n",
              "      <td>-3.246238</td>\n",
              "      <td>-0.840579</td>\n",
              "      <td>Amy</td>\n",
              "      <td>True</td>\n",
              "      <td>2020-12-30</td>\n",
              "      <td>2021-01-01</td>\n",
              "      <td>2021-01-04</td>\n",
              "      <td>2021-01-10</td>\n",
              "      <td>2021-01-12</td>\n",
              "    </tr>\n",
              "    <tr>\n",
              "      <th>SW20201230-06</th>\n",
              "      <td>2020-12-30</td>\n",
              "      <td>1.086317</td>\n",
              "      <td>-0.431997</td>\n",
              "      <td>-3.836656</td>\n",
              "      <td>Amy</td>\n",
              "      <td>False</td>\n",
              "      <td>2021-01-06</td>\n",
              "      <td>2021-01-07</td>\n",
              "      <td>2021-01-08</td>\n",
              "      <td>2021-01-12</td>\n",
              "      <td>2021-01-19</td>\n",
              "    </tr>\n",
              "    <tr>\n",
              "      <th>SW20201230-07</th>\n",
              "      <td>2020-12-30</td>\n",
              "      <td>2.723145</td>\n",
              "      <td>2.654831</td>\n",
              "      <td>-0.382684</td>\n",
              "      <td>Zack</td>\n",
              "      <td>True</td>\n",
              "      <td>2020-12-31</td>\n",
              "      <td>2021-01-01</td>\n",
              "      <td>2021-01-06</td>\n",
              "      <td>2021-01-13</td>\n",
              "      <td>2021-01-16</td>\n",
              "    </tr>\n",
              "    <tr>\n",
              "      <th>SW20201230-08</th>\n",
              "      <td>2020-12-30</td>\n",
              "      <td>0.218544</td>\n",
              "      <td>-0.093508</td>\n",
              "      <td>-2.688590</td>\n",
              "      <td>Danice</td>\n",
              "      <td>True</td>\n",
              "      <td>2020-12-31</td>\n",
              "      <td>2021-01-02</td>\n",
              "      <td>2021-01-03</td>\n",
              "      <td>2021-01-06</td>\n",
              "      <td>2021-01-08</td>\n",
              "    </tr>\n",
              "  </tbody>\n",
              "</table>\n",
              "</div>"
            ],
            "text/plain": [
              "              surgery_date  planned_x  planned_y  planned_z surgeon  \\\n",
              "SW20201230-04   2020-12-30   2.903028  -6.192594  -4.210131  Mathew   \n",
              "SW20201230-05   2020-12-30   0.183104  -3.246238  -0.840579     Amy   \n",
              "SW20201230-06   2020-12-30   1.086317  -0.431997  -3.836656     Amy   \n",
              "SW20201230-07   2020-12-30   2.723145   2.654831  -0.382684    Zack   \n",
              "SW20201230-08   2020-12-30   0.218544  -0.093508  -2.688590  Danice   \n",
              "\n",
              "               survived_surgery perfusion_date sectioning_date staining_date  \\\n",
              "SW20201230-04              True     2020-12-31      2021-01-01    2021-01-02   \n",
              "SW20201230-05              True     2020-12-30      2021-01-01    2021-01-04   \n",
              "SW20201230-06             False     2021-01-06      2021-01-07    2021-01-08   \n",
              "SW20201230-07              True     2020-12-31      2021-01-01    2021-01-06   \n",
              "SW20201230-08              True     2020-12-31      2021-01-02    2021-01-03   \n",
              "\n",
              "              mounting_date scanning_date  \n",
              "SW20201230-04    2021-01-10    2021-01-11  \n",
              "SW20201230-05    2021-01-10    2021-01-12  \n",
              "SW20201230-06    2021-01-12    2021-01-19  \n",
              "SW20201230-07    2021-01-13    2021-01-16  \n",
              "SW20201230-08    2021-01-06    2021-01-08  "
            ]
          },
          "metadata": {
            "tags": []
          },
          "execution_count": 42
        }
      ]
    },
    {
      "cell_type": "code",
      "metadata": {
        "id": "44rUNJjYInNW",
        "colab_type": "code",
        "colab": {},
        "outputId": "0b6a11e0-e1c3-4ad2-ae7b-523a2c51c3f7"
      },
      "source": [
        "df_case_tracker.loc[df_case_tracker['scanning_date'] >= '2021-01-01'].head()"
      ],
      "execution_count": 0,
      "outputs": [
        {
          "output_type": "execute_result",
          "data": {
            "text/html": [
              "<div>\n",
              "<style scoped>\n",
              "    .dataframe tbody tr th:only-of-type {\n",
              "        vertical-align: middle;\n",
              "    }\n",
              "\n",
              "    .dataframe tbody tr th {\n",
              "        vertical-align: top;\n",
              "    }\n",
              "\n",
              "    .dataframe thead th {\n",
              "        text-align: right;\n",
              "    }\n",
              "</style>\n",
              "<table border=\"1\" class=\"dataframe\">\n",
              "  <thead>\n",
              "    <tr style=\"text-align: right;\">\n",
              "      <th></th>\n",
              "      <th>surgery_date</th>\n",
              "      <th>planned_x</th>\n",
              "      <th>planned_y</th>\n",
              "      <th>planned_z</th>\n",
              "      <th>surgeon</th>\n",
              "      <th>survived_surgery</th>\n",
              "      <th>perfusion_date</th>\n",
              "      <th>sectioning_date</th>\n",
              "      <th>staining_date</th>\n",
              "      <th>mounting_date</th>\n",
              "      <th>scanning_date</th>\n",
              "    </tr>\n",
              "  </thead>\n",
              "  <tbody>\n",
              "    <tr>\n",
              "      <th>SW20201117-05</th>\n",
              "      <td>2020-11-17</td>\n",
              "      <td>1.353913</td>\n",
              "      <td>2.086307</td>\n",
              "      <td>-4.760211</td>\n",
              "      <td>Rob</td>\n",
              "      <td>False</td>\n",
              "      <td>2020-11-20</td>\n",
              "      <td>2020-11-24</td>\n",
              "      <td>2020-11-25</td>\n",
              "      <td>2021-01-02</td>\n",
              "      <td>2021-01-04</td>\n",
              "    </tr>\n",
              "    <tr>\n",
              "      <th>SW20201204-06</th>\n",
              "      <td>2020-12-04</td>\n",
              "      <td>1.845209</td>\n",
              "      <td>-1.284304</td>\n",
              "      <td>-1.059596</td>\n",
              "      <td>Amy</td>\n",
              "      <td>True</td>\n",
              "      <td>2020-12-04</td>\n",
              "      <td>2020-12-06</td>\n",
              "      <td>2020-12-10</td>\n",
              "      <td>2021-01-04</td>\n",
              "      <td>2021-01-07</td>\n",
              "    </tr>\n",
              "    <tr>\n",
              "      <th>SW20201210-04</th>\n",
              "      <td>2020-12-10</td>\n",
              "      <td>2.331125</td>\n",
              "      <td>-2.545595</td>\n",
              "      <td>-0.842997</td>\n",
              "      <td>Danice</td>\n",
              "      <td>True</td>\n",
              "      <td>2020-12-12</td>\n",
              "      <td>2020-12-16</td>\n",
              "      <td>2020-12-16</td>\n",
              "      <td>2020-12-26</td>\n",
              "      <td>2021-01-01</td>\n",
              "    </tr>\n",
              "    <tr>\n",
              "      <th>SW20201211-03</th>\n",
              "      <td>2020-12-11</td>\n",
              "      <td>1.174736</td>\n",
              "      <td>-3.340901</td>\n",
              "      <td>-2.261794</td>\n",
              "      <td>Edward</td>\n",
              "      <td>True</td>\n",
              "      <td>2020-12-16</td>\n",
              "      <td>2020-12-17</td>\n",
              "      <td>2020-12-18</td>\n",
              "      <td>2020-12-30</td>\n",
              "      <td>2021-01-01</td>\n",
              "    </tr>\n",
              "    <tr>\n",
              "      <th>SW20201214-01</th>\n",
              "      <td>2020-12-14</td>\n",
              "      <td>2.160400</td>\n",
              "      <td>1.980884</td>\n",
              "      <td>-4.467491</td>\n",
              "      <td>Danice</td>\n",
              "      <td>False</td>\n",
              "      <td>2020-12-16</td>\n",
              "      <td>2020-12-18</td>\n",
              "      <td>2020-12-18</td>\n",
              "      <td>2020-12-24</td>\n",
              "      <td>2021-01-01</td>\n",
              "    </tr>\n",
              "  </tbody>\n",
              "</table>\n",
              "</div>"
            ],
            "text/plain": [
              "              surgery_date  planned_x  planned_y  planned_z surgeon  \\\n",
              "SW20201117-05   2020-11-17   1.353913   2.086307  -4.760211     Rob   \n",
              "SW20201204-06   2020-12-04   1.845209  -1.284304  -1.059596     Amy   \n",
              "SW20201210-04   2020-12-10   2.331125  -2.545595  -0.842997  Danice   \n",
              "SW20201211-03   2020-12-11   1.174736  -3.340901  -2.261794  Edward   \n",
              "SW20201214-01   2020-12-14   2.160400   1.980884  -4.467491  Danice   \n",
              "\n",
              "               survived_surgery perfusion_date sectioning_date staining_date  \\\n",
              "SW20201117-05             False     2020-11-20      2020-11-24    2020-11-25   \n",
              "SW20201204-06              True     2020-12-04      2020-12-06    2020-12-10   \n",
              "SW20201210-04              True     2020-12-12      2020-12-16    2020-12-16   \n",
              "SW20201211-03              True     2020-12-16      2020-12-17    2020-12-18   \n",
              "SW20201214-01             False     2020-12-16      2020-12-18    2020-12-18   \n",
              "\n",
              "              mounting_date scanning_date  \n",
              "SW20201117-05    2021-01-02    2021-01-04  \n",
              "SW20201204-06    2021-01-04    2021-01-07  \n",
              "SW20201210-04    2020-12-26    2021-01-01  \n",
              "SW20201211-03    2020-12-30    2021-01-01  \n",
              "SW20201214-01    2020-12-24    2021-01-01  "
            ]
          },
          "metadata": {
            "tags": []
          },
          "execution_count": 43
        }
      ]
    },
    {
      "cell_type": "code",
      "metadata": {
        "id": "mbckvFUfInNX",
        "colab_type": "code",
        "colab": {}
      },
      "source": [
        "# because we are only collecting data within year 2020, we are going to consider dates occuring in 2021 as invalid\n",
        "# to reflect this in the dataframe, we replace dates in 2021 with pd.NaT (Not a Time)\n",
        "# we need to use .loc to select all these date columns: perfusion, section, stain, mount, scan\n",
        "# how?"
      ],
      "execution_count": 0,
      "outputs": []
    },
    {
      "cell_type": "code",
      "metadata": {
        "id": "ENA-5bNwInNZ",
        "colab_type": "code",
        "colab": {},
        "outputId": "97d63dbc-6cfb-4582-e015-08e0f36ad470"
      },
      "source": [
        "df_case_tracker.loc[:, 'perfusion_date': 'scanning_date'].head()"
      ],
      "execution_count": 0,
      "outputs": [
        {
          "output_type": "execute_result",
          "data": {
            "text/html": [
              "<div>\n",
              "<style scoped>\n",
              "    .dataframe tbody tr th:only-of-type {\n",
              "        vertical-align: middle;\n",
              "    }\n",
              "\n",
              "    .dataframe tbody tr th {\n",
              "        vertical-align: top;\n",
              "    }\n",
              "\n",
              "    .dataframe thead th {\n",
              "        text-align: right;\n",
              "    }\n",
              "</style>\n",
              "<table border=\"1\" class=\"dataframe\">\n",
              "  <thead>\n",
              "    <tr style=\"text-align: right;\">\n",
              "      <th></th>\n",
              "      <th>perfusion_date</th>\n",
              "      <th>sectioning_date</th>\n",
              "      <th>staining_date</th>\n",
              "      <th>mounting_date</th>\n",
              "      <th>scanning_date</th>\n",
              "    </tr>\n",
              "  </thead>\n",
              "  <tbody>\n",
              "    <tr>\n",
              "      <th>SW20200102-01</th>\n",
              "      <td>2020-01-03</td>\n",
              "      <td>2020-01-04</td>\n",
              "      <td>2020-01-06</td>\n",
              "      <td>2020-01-13</td>\n",
              "      <td>2020-01-14</td>\n",
              "    </tr>\n",
              "    <tr>\n",
              "      <th>SW20200102-02</th>\n",
              "      <td>2020-01-03</td>\n",
              "      <td>2020-01-05</td>\n",
              "      <td>2020-01-05</td>\n",
              "      <td>2020-01-06</td>\n",
              "      <td>2020-01-10</td>\n",
              "    </tr>\n",
              "    <tr>\n",
              "      <th>SW20200102-03</th>\n",
              "      <td>2020-01-02</td>\n",
              "      <td>2020-01-03</td>\n",
              "      <td>2020-01-04</td>\n",
              "      <td>2020-01-13</td>\n",
              "      <td>2020-01-14</td>\n",
              "    </tr>\n",
              "    <tr>\n",
              "      <th>SW20200103-01</th>\n",
              "      <td>2020-01-04</td>\n",
              "      <td>2020-01-04</td>\n",
              "      <td>2020-01-05</td>\n",
              "      <td>2020-01-05</td>\n",
              "      <td>2020-01-16</td>\n",
              "    </tr>\n",
              "    <tr>\n",
              "      <th>SW20200103-02</th>\n",
              "      <td>2020-01-05</td>\n",
              "      <td>2020-01-05</td>\n",
              "      <td>2020-01-07</td>\n",
              "      <td>2020-01-09</td>\n",
              "      <td>2020-01-10</td>\n",
              "    </tr>\n",
              "  </tbody>\n",
              "</table>\n",
              "</div>"
            ],
            "text/plain": [
              "              perfusion_date sectioning_date staining_date mounting_date  \\\n",
              "SW20200102-01     2020-01-03      2020-01-04    2020-01-06    2020-01-13   \n",
              "SW20200102-02     2020-01-03      2020-01-05    2020-01-05    2020-01-06   \n",
              "SW20200102-03     2020-01-02      2020-01-03    2020-01-04    2020-01-13   \n",
              "SW20200103-01     2020-01-04      2020-01-04    2020-01-05    2020-01-05   \n",
              "SW20200103-02     2020-01-05      2020-01-05    2020-01-07    2020-01-09   \n",
              "\n",
              "              scanning_date  \n",
              "SW20200102-01    2020-01-14  \n",
              "SW20200102-02    2020-01-10  \n",
              "SW20200102-03    2020-01-14  \n",
              "SW20200103-01    2020-01-16  \n",
              "SW20200103-02    2020-01-10  "
            ]
          },
          "metadata": {
            "tags": []
          },
          "execution_count": 45
        }
      ]
    },
    {
      "cell_type": "code",
      "metadata": {
        "id": "90O7q3cnInNb",
        "colab_type": "code",
        "colab": {}
      },
      "source": [
        "# if these dates falls in 2021, replace with NaT\n",
        "df_case_tracker.loc[:, 'perfusion_date': 'scanning_date'] = df_case_tracker.loc[:, 'perfusion_date': 'scanning_date'].where(df_case_tracker.loc[:, 'perfusion_date': 'scanning_date'] < '2021-01-01', pd.NaT)"
      ],
      "execution_count": 0,
      "outputs": []
    },
    {
      "cell_type": "code",
      "metadata": {
        "id": "kiQh15lJInNc",
        "colab_type": "code",
        "colab": {},
        "outputId": "d2d69ef5-11a8-4ada-c814-b0670f67c6a1"
      },
      "source": [
        "df_case_tracker.tail()"
      ],
      "execution_count": 0,
      "outputs": [
        {
          "output_type": "execute_result",
          "data": {
            "text/html": [
              "<div>\n",
              "<style scoped>\n",
              "    .dataframe tbody tr th:only-of-type {\n",
              "        vertical-align: middle;\n",
              "    }\n",
              "\n",
              "    .dataframe tbody tr th {\n",
              "        vertical-align: top;\n",
              "    }\n",
              "\n",
              "    .dataframe thead th {\n",
              "        text-align: right;\n",
              "    }\n",
              "</style>\n",
              "<table border=\"1\" class=\"dataframe\">\n",
              "  <thead>\n",
              "    <tr style=\"text-align: right;\">\n",
              "      <th></th>\n",
              "      <th>surgery_date</th>\n",
              "      <th>planned_x</th>\n",
              "      <th>planned_y</th>\n",
              "      <th>planned_z</th>\n",
              "      <th>surgeon</th>\n",
              "      <th>survived_surgery</th>\n",
              "      <th>perfusion_date</th>\n",
              "      <th>sectioning_date</th>\n",
              "      <th>staining_date</th>\n",
              "      <th>mounting_date</th>\n",
              "      <th>scanning_date</th>\n",
              "    </tr>\n",
              "  </thead>\n",
              "  <tbody>\n",
              "    <tr>\n",
              "      <th>SW20201230-04</th>\n",
              "      <td>2020-12-30</td>\n",
              "      <td>2.903028</td>\n",
              "      <td>-6.192594</td>\n",
              "      <td>-4.210131</td>\n",
              "      <td>Mathew</td>\n",
              "      <td>True</td>\n",
              "      <td>2020-12-31</td>\n",
              "      <td>NaT</td>\n",
              "      <td>NaT</td>\n",
              "      <td>NaT</td>\n",
              "      <td>NaT</td>\n",
              "    </tr>\n",
              "    <tr>\n",
              "      <th>SW20201230-05</th>\n",
              "      <td>2020-12-30</td>\n",
              "      <td>0.183104</td>\n",
              "      <td>-3.246238</td>\n",
              "      <td>-0.840579</td>\n",
              "      <td>Amy</td>\n",
              "      <td>True</td>\n",
              "      <td>2020-12-30</td>\n",
              "      <td>NaT</td>\n",
              "      <td>NaT</td>\n",
              "      <td>NaT</td>\n",
              "      <td>NaT</td>\n",
              "    </tr>\n",
              "    <tr>\n",
              "      <th>SW20201230-06</th>\n",
              "      <td>2020-12-30</td>\n",
              "      <td>1.086317</td>\n",
              "      <td>-0.431997</td>\n",
              "      <td>-3.836656</td>\n",
              "      <td>Amy</td>\n",
              "      <td>False</td>\n",
              "      <td>NaT</td>\n",
              "      <td>NaT</td>\n",
              "      <td>NaT</td>\n",
              "      <td>NaT</td>\n",
              "      <td>NaT</td>\n",
              "    </tr>\n",
              "    <tr>\n",
              "      <th>SW20201230-07</th>\n",
              "      <td>2020-12-30</td>\n",
              "      <td>2.723145</td>\n",
              "      <td>2.654831</td>\n",
              "      <td>-0.382684</td>\n",
              "      <td>Zack</td>\n",
              "      <td>True</td>\n",
              "      <td>2020-12-31</td>\n",
              "      <td>NaT</td>\n",
              "      <td>NaT</td>\n",
              "      <td>NaT</td>\n",
              "      <td>NaT</td>\n",
              "    </tr>\n",
              "    <tr>\n",
              "      <th>SW20201230-08</th>\n",
              "      <td>2020-12-30</td>\n",
              "      <td>0.218544</td>\n",
              "      <td>-0.093508</td>\n",
              "      <td>-2.688590</td>\n",
              "      <td>Danice</td>\n",
              "      <td>True</td>\n",
              "      <td>2020-12-31</td>\n",
              "      <td>NaT</td>\n",
              "      <td>NaT</td>\n",
              "      <td>NaT</td>\n",
              "      <td>NaT</td>\n",
              "    </tr>\n",
              "  </tbody>\n",
              "</table>\n",
              "</div>"
            ],
            "text/plain": [
              "              surgery_date  planned_x  planned_y  planned_z surgeon  \\\n",
              "SW20201230-04   2020-12-30   2.903028  -6.192594  -4.210131  Mathew   \n",
              "SW20201230-05   2020-12-30   0.183104  -3.246238  -0.840579     Amy   \n",
              "SW20201230-06   2020-12-30   1.086317  -0.431997  -3.836656     Amy   \n",
              "SW20201230-07   2020-12-30   2.723145   2.654831  -0.382684    Zack   \n",
              "SW20201230-08   2020-12-30   0.218544  -0.093508  -2.688590  Danice   \n",
              "\n",
              "               survived_surgery perfusion_date sectioning_date staining_date  \\\n",
              "SW20201230-04              True     2020-12-31             NaT           NaT   \n",
              "SW20201230-05              True     2020-12-30             NaT           NaT   \n",
              "SW20201230-06             False            NaT             NaT           NaT   \n",
              "SW20201230-07              True     2020-12-31             NaT           NaT   \n",
              "SW20201230-08              True     2020-12-31             NaT           NaT   \n",
              "\n",
              "              mounting_date scanning_date  \n",
              "SW20201230-04           NaT           NaT  \n",
              "SW20201230-05           NaT           NaT  \n",
              "SW20201230-06           NaT           NaT  \n",
              "SW20201230-07           NaT           NaT  \n",
              "SW20201230-08           NaT           NaT  "
            ]
          },
          "metadata": {
            "tags": []
          },
          "execution_count": 47
        }
      ]
    },
    {
      "cell_type": "code",
      "metadata": {
        "id": "0Sc9vHwbInNe",
        "colab_type": "code",
        "colab": {}
      },
      "source": [
        "# additionally, if an animal did not survive surgery, all non surgery dates should also be NaT\n",
        "df_case_tracker.loc[~df_case_tracker['survived_surgery'], 'perfusion_date': 'scanning_date'] = pd.NaT"
      ],
      "execution_count": 0,
      "outputs": []
    },
    {
      "cell_type": "code",
      "metadata": {
        "id": "CNMZeOMqInNf",
        "colab_type": "code",
        "colab": {},
        "outputId": "a14a8f21-fee8-4487-f45d-a9c9b327ae46"
      },
      "source": [
        "# series.count(): count number of values in a series thats not missing value (NaN, NaT)\n",
        "print('surgery -> scanning completion cases in 2020 = ', df_case_tracker['scanning_date'].count())\n",
        "print('survived surgery cases in 2020 = ', df_case_tracker['survived_surgery'].sum())\n",
        "print('surgery cases in 2020 = ', len(df_case_tracker.index))"
      ],
      "execution_count": 0,
      "outputs": [
        {
          "output_type": "stream",
          "text": [
            "surgery -> scanning completion cases in 2020 =  970\n",
            "survived surgery cases in 2020 =  1009\n",
            "surgery cases in 2020 =  1129\n"
          ],
          "name": "stdout"
        }
      ]
    },
    {
      "cell_type": "code",
      "metadata": {
        "id": "O-yZd20UInNg",
        "colab_type": "code",
        "colab": {},
        "outputId": "53bc7b91-7337-4dda-9441-ff753b800c4b"
      },
      "source": [
        ""
      ],
      "execution_count": 0,
      "outputs": [
        {
          "output_type": "error",
          "ename": "TypeError",
          "evalue": "'dict_items' object is not an iterator",
          "traceback": [
            "\u001b[0;31m---------------------------------------------------------------------------\u001b[0m",
            "\u001b[0;31mTypeError\u001b[0m                                 Traceback (most recent call last)",
            "\u001b[0;32m<ipython-input-51-efb90d9f66de>\u001b[0m in \u001b[0;36m<module>\u001b[0;34m\u001b[0m\n\u001b[1;32m      1\u001b[0m \u001b[0ma\u001b[0m \u001b[0;34m=\u001b[0m \u001b[0;34m{\u001b[0m\u001b[0;34m'a'\u001b[0m\u001b[0;34m:\u001b[0m \u001b[0;36m1\u001b[0m\u001b[0;34m,\u001b[0m \u001b[0;34m'b'\u001b[0m\u001b[0;34m:\u001b[0m\u001b[0;36m2\u001b[0m\u001b[0;34m}\u001b[0m\u001b[0;34m\u001b[0m\u001b[0;34m\u001b[0m\u001b[0m\n\u001b[0;32m----> 2\u001b[0;31m \u001b[0mnext\u001b[0m\u001b[0;34m(\u001b[0m\u001b[0ma\u001b[0m\u001b[0;34m.\u001b[0m\u001b[0mitems\u001b[0m\u001b[0;34m(\u001b[0m\u001b[0;34m)\u001b[0m\u001b[0;34m)\u001b[0m\u001b[0;34m\u001b[0m\u001b[0;34m\u001b[0m\u001b[0m\n\u001b[0m",
            "\u001b[0;31mTypeError\u001b[0m: 'dict_items' object is not an iterator"
          ]
        }
      ]
    },
    {
      "cell_type": "code",
      "metadata": {
        "id": "hipUFKS5InNi",
        "colab_type": "code",
        "colab": {}
      },
      "source": [
        ""
      ],
      "execution_count": 0,
      "outputs": []
    }
  ]
}