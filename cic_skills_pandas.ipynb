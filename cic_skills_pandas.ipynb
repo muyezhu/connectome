{
  "nbformat": 4,
  "nbformat_minor": 0,
  "metadata": {
    "colab": {
      "name": "Untitled0.ipynb",
      "provenance": [],
      "collapsed_sections": [],
      "include_colab_link": true
    },
    "kernelspec": {
      "name": "python3",
      "display_name": "Python 3"
    }
  },
  "cells": [
    {
      "cell_type": "markdown",
      "metadata": {
        "id": "view-in-github",
        "colab_type": "text"
      },
      "source": [
        "<a href=\"https://colab.research.google.com/github/muyezhu/connectome/blob/master/cic_skills_pandas.ipynb\" target=\"_parent\"><img src=\"https://colab.research.google.com/assets/colab-badge.svg\" alt=\"Open In Colab\"/></a>"
      ]
    },
    {
      "cell_type": "code",
      "metadata": {
        "id": "8wCp9BX1BfFD",
        "colab_type": "code",
        "colab": {}
      },
      "source": [
        "# recap data types in python: boolean, numeric, string\n",
        "a = 123      # a is a variable of numeric type\n",
        "b = '123'    # b is a variable of string type\n",
        "c = True     # c is a variable of boolean type\n",
        "print(type(a))\n",
        "print(type(b))\n",
        "print(type(c))"
      ],
      "execution_count": 0,
      "outputs": []
    },
    {
      "cell_type": "code",
      "metadata": {
        "id": "PK6SFWWwJVzj",
        "colab_type": "code",
        "colab": {}
      },
      "source": [
        "print(a * 3)"
      ],
      "execution_count": 0,
      "outputs": []
    },
    {
      "cell_type": "code",
      "metadata": {
        "id": "lY6wFdHuJaeL",
        "colab_type": "code",
        "colab": {}
      },
      "source": [
        "d = b * 3\n",
        "print(d)\n",
        "print(type(d))"
      ],
      "execution_count": 0,
      "outputs": []
    },
    {
      "cell_type": "code",
      "metadata": {
        "colab_type": "code",
        "id": "WRdDmED4eg4U",
        "colab": {}
      },
      "source": [
        "# make the pandas available\n",
        "import pandas as pd\n",
        "# url to the life expectancy data csv file\n",
        "life_expectancy_url = 'https://drive.google.com/uc?export=download&id=1lfeD_Y4F-pMarx-M_pJM9W6aCe6pSPnr'\n",
        "# read the csv file into a \"DataFrame\", a core object in pandas library\n",
        "df = pd.read_csv(life_expectancy_url, header=2, skip_blank_lines=True, sep=',', quotechar='\"')\n"
      ],
      "execution_count": 0,
      "outputs": []
    },
    {
      "cell_type": "code",
      "metadata": {
        "id": "ecgskrbxKpJT",
        "colab_type": "code",
        "colab": {}
      },
      "source": [
        "# take a quick look at the first 10 rows\n",
        "df.head(n=10)"
      ],
      "execution_count": 0,
      "outputs": []
    },
    {
      "cell_type": "code",
      "metadata": {
        "id": "SCHFG8dNfESX",
        "colab_type": "code",
        "colab": {}
      },
      "source": [
        "# how many rows and columns does the data frame have\n",
        "print(df.shape)"
      ],
      "execution_count": 0,
      "outputs": []
    },
    {
      "cell_type": "code",
      "metadata": {
        "id": "IXuxDwg4eeCu",
        "colab_type": "code",
        "colab": {}
      },
      "source": [
        "# each column has a name\n",
        "print('column names: ')\n",
        "print(df.columns.values)"
      ],
      "execution_count": 0,
      "outputs": []
    },
    {
      "cell_type": "code",
      "metadata": {
        "id": "IbkUJsYqesHy",
        "colab_type": "code",
        "colab": {}
      },
      "source": [
        "# each row has an index (and can be uniquely identified using the index)\n",
        "print('row index: ')\n",
        "print(df.index.values)"
      ],
      "execution_count": 0,
      "outputs": []
    },
    {
      "cell_type": "code",
      "metadata": {
        "id": "Q4otFkomdalb",
        "colab_type": "code",
        "colab": {}
      },
      "source": [
        "# clean up the data frame: remove columns where all life expectancy data is missing\n",
        "df_clean = df.dropna(axis=1, how='all')\n",
        "df_clean.head(n=10)"
      ],
      "execution_count": 0,
      "outputs": []
    },
    {
      "cell_type": "code",
      "metadata": {
        "id": "Ut0AqMeGnIpM",
        "colab_type": "code",
        "colab": {}
      },
      "source": [
        "# new shape\n",
        "print(df_clean.shape)"
      ],
      "execution_count": 0,
      "outputs": []
    },
    {
      "cell_type": "code",
      "metadata": {
        "id": "8VJRTwEEsiRL",
        "colab_type": "code",
        "colab": {}
      },
      "source": [
        "# which columns are dropped?\n",
        "print(set(df.columns.values) - set(df_clean.columns.values))"
      ],
      "execution_count": 0,
      "outputs": []
    },
    {
      "cell_type": "code",
      "metadata": {
        "id": "O9kcuUeim-rI",
        "colab_type": "code",
        "colab": {}
      },
      "source": [
        "# clean up the data frame: remove rows where all life expectancy data is missing\n",
        "first_four_col_names = df.columns.values[0:4]\n",
        "# select the first four columns with function loc()\n",
        "df_first_four_cols = df.loc[:, first_four_col_names]\n",
        "df_first_four_cols.head(n=10)"
      ],
      "execution_count": 0,
      "outputs": []
    },
    {
      "cell_type": "code",
      "metadata": {
        "id": "PBBonQ9WpVCt",
        "colab_type": "code",
        "colab": {}
      },
      "source": [
        "# isna(): returns data frame with boolean values. for each cell, if the value is NaN (aka missing value), True is returned\n",
        "df_first_four_cols.isna().head(n=10)"
      ],
      "execution_count": 0,
      "outputs": []
    },
    {
      "cell_type": "code",
      "metadata": {
        "id": "UhIquy9nppfu",
        "colab_type": "code",
        "colab": {}
      },
      "source": [
        "# is there any missing values in the first three columns? \n",
        "print('any missing values in the first three columns? ', 'yes' if df_first_four_cols.isna().any(axis=None) else 'no')"
      ],
      "execution_count": 0,
      "outputs": []
    },
    {
      "cell_type": "code",
      "metadata": {
        "id": "CLHSRrmEqSD-",
        "colab_type": "code",
        "colab": {}
      },
      "source": [
        "# keep a row if at least one cell in columns '1960' to '2017' has numeric data (aka is not NaN)\n",
        "df_clean = df_clean.dropna(axis=0, thresh=5)\n",
        "df_clean.head(n=10)"
      ],
      "execution_count": 0,
      "outputs": []
    },
    {
      "cell_type": "code",
      "metadata": {
        "id": "UJkEAbvpsGH5",
        "colab_type": "code",
        "colab": {}
      },
      "source": [
        "print(df_clean.shape)"
      ],
      "execution_count": 0,
      "outputs": []
    },
    {
      "cell_type": "code",
      "metadata": {
        "id": "IYkdfel-tCOg",
        "colab_type": "code",
        "colab": {}
      },
      "source": [
        "# which rows are dropped?\n",
        "print(set(df.index.values) - set(df_clean.index.values))"
      ],
      "execution_count": 0,
      "outputs": []
    },
    {
      "cell_type": "code",
      "metadata": {
        "id": "Ghi50hnttKn_",
        "colab_type": "code",
        "colab": {}
      },
      "source": [
        "# which countries do the dropped rows correspond to?\n",
        "dropped_indices = sorted([index for index in (set(df.index.values) - set(df_clean.index.values))])\n",
        "df_dropped_countries = df.loc[dropped_indices, :]\n",
        "print(df_dropped_countries.shape)\n",
        "df_dropped_countries.head(n=10)"
      ],
      "execution_count": 0,
      "outputs": []
    },
    {
      "cell_type": "code",
      "metadata": {
        "id": "k8oighu8uzSj",
        "colab_type": "code",
        "colab": {}
      },
      "source": [
        "df_clean = df_clean.drop(columns=df_clean.columns.values[1:4])\n",
        "df_clean.head()"
      ],
      "execution_count": 0,
      "outputs": []
    },
    {
      "cell_type": "code",
      "metadata": {
        "id": "fBZnYk4SxWih",
        "colab_type": "code",
        "colab": {}
      },
      "source": [
        "df_melt = df_clean.melt(id_vars=['Country Name'], var_name='year', value_name='life expectancy')\n",
        "df_melt.head(20)\n"
      ],
      "execution_count": 0,
      "outputs": []
    },
    {
      "cell_type": "code",
      "metadata": {
        "id": "timkXlHFyksZ",
        "colab_type": "code",
        "colab": {}
      },
      "source": [
        "df_clean_rows, df_clean_cols = df_clean.shape\n",
        "df_melt_rows = df_melt.shape[0]\n",
        "print('number of years = ', df_clean_cols - 1)\n",
        "print(df_melt_rows / df_clean_rows)"
      ],
      "execution_count": 0,
      "outputs": []
    },
    {
      "cell_type": "code",
      "metadata": {
        "id": "6WBCHYYRyrG5",
        "colab_type": "code",
        "colab": {}
      },
      "source": [
        "df_melt['year'] = df_melt['year'].astype('int32')\n",
        "df_melt.plot.scatter(x='year', y='life expectancy', s=1)"
      ],
      "execution_count": 0,
      "outputs": []
    },
    {
      "cell_type": "code",
      "metadata": {
        "id": "W2uRddcu1E-5",
        "colab_type": "code",
        "colab": {}
      },
      "source": [
        "# what happened at ~ 1978?\n",
        "min_index_1978 = df_clean['1978'].idxmin()\n",
        "print(df_clean['Country Name'][min_index_1978])"
      ],
      "execution_count": 0,
      "outputs": []
    },
    {
      "cell_type": "code",
      "metadata": {
        "id": "aJkNjmX21uMH",
        "colab_type": "code",
        "colab": {}
      },
      "source": [
        "# select the row corresponding to Cambodia\n",
        "df_cambodia = df_melt[df_melt['Country Name'] == 'Cambodia']\n",
        "df_cambodia.head()"
      ],
      "execution_count": 0,
      "outputs": []
    },
    {
      "cell_type": "code",
      "metadata": {
        "id": "N2NSr7y52S6D",
        "colab_type": "code",
        "colab": {}
      },
      "source": [
        "df_cambodia.plot(x='year', y='life expectancy')"
      ],
      "execution_count": 0,
      "outputs": []
    },
    {
      "cell_type": "code",
      "metadata": {
        "id": "GylnOJv72v39",
        "colab_type": "code",
        "colab": {}
      },
      "source": [
        "# Cambodian genocide (April 17, 1975 – January 7, 1979). death toll is 1.5 ~ 2 million, near a quarter of its population at the time"
      ],
      "execution_count": 0,
      "outputs": []
    },
    {
      "cell_type": "code",
      "metadata": {
        "id": "lpH7lpI44jfS",
        "colab_type": "code",
        "colab": {}
      },
      "source": [
        "df_timor_leste = df_melt[df_melt['Country Name'] == 'Timor-Leste']\n",
        "df_timor_leste.plot(x='year', y='life expectancy')"
      ],
      "execution_count": 0,
      "outputs": []
    },
    {
      "cell_type": "code",
      "metadata": {
        "id": "MNJwRdCz66i-",
        "colab_type": "code",
        "colab": {}
      },
      "source": [
        "# Indonesian occupation of East Timor (1975–1999)"
      ],
      "execution_count": 0,
      "outputs": []
    },
    {
      "cell_type": "code",
      "metadata": {
        "id": "Anw59l6p3ZSS",
        "colab_type": "code",
        "colab": {},
        "cellView": "form"
      },
      "source": [
        "#@title\n",
        "# Rwandan genocide \n",
        "min_index_1992 = df_clean['1992'].idxmin()\n",
        "print(df_clean['Country Name'][min_index_1992])\n",
        "df_rwanda = df_melt[df_melt['Country Name'] == 'Rwanda']\n",
        "df_rwanda.plot(x='year', y='life expectancy')"
      ],
      "execution_count": 0,
      "outputs": []
    }
  ]
}